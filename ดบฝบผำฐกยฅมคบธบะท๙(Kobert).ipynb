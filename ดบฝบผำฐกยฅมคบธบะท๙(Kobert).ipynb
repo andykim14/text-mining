{
 "cells": [
  {
   "cell_type": "code",
   "execution_count": null,
   "metadata": {
    "colab": {
     "base_uri": "https://localhost:8080/"
    },
    "id": "8AB7YtQ3rZzF",
    "outputId": "4aee7e19-a7c9-41c4-f9ec-4d718c46f926"
   },
   "outputs": [
    {
     "name": "stdout",
     "output_type": "stream",
     "text": [
      "Collecting transformers\n",
      "\u001b[?25l  Downloading https://files.pythonhosted.org/packages/ed/db/98c3ea1a78190dac41c0127a063abf92bd01b4b0b6970a6db1c2f5b66fa0/transformers-4.0.1-py3-none-any.whl (1.4MB)\n",
      "\u001b[K     |████████████████████████████████| 1.4MB 4.3MB/s \n",
      "\u001b[?25hRequirement already satisfied: requests in /usr/local/lib/python3.6/dist-packages (from transformers) (2.23.0)\n",
      "Requirement already satisfied: packaging in /usr/local/lib/python3.6/dist-packages (from transformers) (20.7)\n",
      "Collecting sacremoses\n",
      "\u001b[?25l  Downloading https://files.pythonhosted.org/packages/7d/34/09d19aff26edcc8eb2a01bed8e98f13a1537005d31e95233fd48216eed10/sacremoses-0.0.43.tar.gz (883kB)\n",
      "\u001b[K     |████████████████████████████████| 890kB 26.9MB/s \n",
      "\u001b[?25hRequirement already satisfied: dataclasses; python_version < \"3.7\" in /usr/local/lib/python3.6/dist-packages (from transformers) (0.8)\n",
      "Requirement already satisfied: regex!=2019.12.17 in /usr/local/lib/python3.6/dist-packages (from transformers) (2019.12.20)\n",
      "Requirement already satisfied: numpy in /usr/local/lib/python3.6/dist-packages (from transformers) (1.18.5)\n",
      "Requirement already satisfied: tqdm>=4.27 in /usr/local/lib/python3.6/dist-packages (from transformers) (4.41.1)\n",
      "Collecting tokenizers==0.9.4\n",
      "\u001b[?25l  Downloading https://files.pythonhosted.org/packages/0f/1c/e789a8b12e28be5bc1ce2156cf87cb522b379be9cadc7ad8091a4cc107c4/tokenizers-0.9.4-cp36-cp36m-manylinux2010_x86_64.whl (2.9MB)\n",
      "\u001b[K     |████████████████████████████████| 2.9MB 29.9MB/s \n",
      "\u001b[?25hRequirement already satisfied: filelock in /usr/local/lib/python3.6/dist-packages (from transformers) (3.0.12)\n",
      "Requirement already satisfied: idna<3,>=2.5 in /usr/local/lib/python3.6/dist-packages (from requests->transformers) (2.10)\n",
      "Requirement already satisfied: certifi>=2017.4.17 in /usr/local/lib/python3.6/dist-packages (from requests->transformers) (2020.12.5)\n",
      "Requirement already satisfied: urllib3!=1.25.0,!=1.25.1,<1.26,>=1.21.1 in /usr/local/lib/python3.6/dist-packages (from requests->transformers) (1.24.3)\n",
      "Requirement already satisfied: chardet<4,>=3.0.2 in /usr/local/lib/python3.6/dist-packages (from requests->transformers) (3.0.4)\n",
      "Requirement already satisfied: pyparsing>=2.0.2 in /usr/local/lib/python3.6/dist-packages (from packaging->transformers) (2.4.7)\n",
      "Requirement already satisfied: six in /usr/local/lib/python3.6/dist-packages (from sacremoses->transformers) (1.15.0)\n",
      "Requirement already satisfied: click in /usr/local/lib/python3.6/dist-packages (from sacremoses->transformers) (7.1.2)\n",
      "Requirement already satisfied: joblib in /usr/local/lib/python3.6/dist-packages (from sacremoses->transformers) (0.17.0)\n",
      "Building wheels for collected packages: sacremoses\n",
      "  Building wheel for sacremoses (setup.py) ... \u001b[?25l\u001b[?25hdone\n",
      "  Created wheel for sacremoses: filename=sacremoses-0.0.43-cp36-none-any.whl size=893261 sha256=c72216bae37f5cd14825dd6c14cadaccffa37bfc4f7ddb22d2a5c6b302148a9a\n",
      "  Stored in directory: /root/.cache/pip/wheels/29/3c/fd/7ce5c3f0666dab31a50123635e6fb5e19ceb42ce38d4e58f45\n",
      "Successfully built sacremoses\n",
      "Installing collected packages: sacremoses, tokenizers, transformers\n",
      "Successfully installed sacremoses-0.0.43 tokenizers-0.9.4 transformers-4.0.1\n"
     ]
    }
   ],
   "source": [
    "!pip install transformers"
   ]
  },
  {
   "cell_type": "code",
   "execution_count": null,
   "metadata": {
    "id": "jRXvtgWrrdk5"
   },
   "outputs": [],
   "source": [
    "import tensorflow as tf\n",
    "import numpy as np\n",
    "import pandas as pd\n",
    "from transformers import *\n",
    "import json\n",
    "from tqdm import tqdm\n",
    "import os\n",
    "import io"
   ]
  },
  {
   "cell_type": "code",
   "execution_count": null,
   "metadata": {
    "colab": {
     "base_uri": "https://localhost:8080/"
    },
    "id": "1JSqucXTB-jX",
    "outputId": "d806c831-27aa-468e-87d5-56ae56c37cbc"
   },
   "outputs": [
    {
     "name": "stdout",
     "output_type": "stream",
     "text": [
      "Mounted at /content/gdrive/\n"
     ]
    }
   ],
   "source": [
    "import os\n",
    "from google.colab import drive\n",
    "drive.mount('/content/gdrive/')"
   ]
  },
  {
   "cell_type": "code",
   "execution_count": null,
   "metadata": {
    "colab": {
     "base_uri": "https://localhost:8080/"
    },
    "id": "8YXI6Q-hsQpn",
    "outputId": "20eded42-fffe-4087-9f4c-c57c77415010"
   },
   "outputs": [
    {
     "data": {
      "text/plain": [
       "['news_semitrain.csv',\n",
       " 'news_semitest.csv',\n",
       " 'news_semitest1.csv',\n",
       " 'news_semitrain1.csv',\n",
       " 'news_train.csv',\n",
       " 'test_set.csv',\n",
       " 'train_set.csv',\n",
       " 'words.csv',\n",
       " 'words1.csv',\n",
       " 'test set.xlsx',\n",
       " 'News_detection(kobert+extrapropre).h5']"
      ]
     },
     "execution_count": 5,
     "metadata": {
      "tags": []
     },
     "output_type": "execute_result"
    }
   ],
   "source": [
    "os.chdir(\"/content/gdrive/MyDrive/Colab Notebooks/News_detection/train_test\")\n",
    "os.getcwd()\n",
    "os.listdir()"
   ]
  },
  {
   "cell_type": "code",
   "execution_count": null,
   "metadata": {
    "id": "ipJ8ZiYNXIgm"
   },
   "outputs": [],
   "source": [
    "train = pd.read_csv(\"train_set.csv\")\n",
    "test = pd.read_csv(\"test_set.csv\")"
   ]
  },
  {
   "cell_type": "code",
   "execution_count": null,
   "metadata": {
    "colab": {
     "base_uri": "https://localhost:8080/",
     "height": 669
    },
    "id": "yKiMccUme7_M",
    "outputId": "c7132a88-6c49-41fb-9b7c-7e76ba95be2a"
   },
   "outputs": [
    {
     "data": {
      "text/html": [
       "<div>\n",
       "<style scoped>\n",
       "    .dataframe tbody tr th:only-of-type {\n",
       "        vertical-align: middle;\n",
       "    }\n",
       "\n",
       "    .dataframe tbody tr th {\n",
       "        vertical-align: top;\n",
       "    }\n",
       "\n",
       "    .dataframe thead th {\n",
       "        text-align: right;\n",
       "    }\n",
       "</style>\n",
       "<table border=\"1\" class=\"dataframe\">\n",
       "  <thead>\n",
       "    <tr style=\"text-align: right;\">\n",
       "      <th></th>\n",
       "      <th>n_id</th>\n",
       "      <th>date</th>\n",
       "      <th>title</th>\n",
       "      <th>content</th>\n",
       "      <th>ord</th>\n",
       "      <th>information</th>\n",
       "    </tr>\n",
       "  </thead>\n",
       "  <tbody>\n",
       "    <tr>\n",
       "      <th>0</th>\n",
       "      <td>NEWS09611</td>\n",
       "      <td>20200113</td>\n",
       "      <td>서철모 화성시장  ‘묘수’..불법 주정차 해결</td>\n",
       "      <td>월 정기권을 폐지하자 장기 주차차량이 시범요금제 시행전 대비 평균 36% 감소했다</td>\n",
       "      <td>70</td>\n",
       "      <td>0</td>\n",
       "    </tr>\n",
       "    <tr>\n",
       "      <th>1</th>\n",
       "      <td>NEWS08586</td>\n",
       "      <td>20200507</td>\n",
       "      <td>[전일 주요 공시] SK이노베이션ㆍ현대차ㆍ하나투어 등</td>\n",
       "      <td>피씨엘, 2184만 원 규모 진단키트 공급계약 체결</td>\n",
       "      <td>12</td>\n",
       "      <td>0</td>\n",
       "    </tr>\n",
       "    <tr>\n",
       "      <th>2</th>\n",
       "      <td>NEWS07112</td>\n",
       "      <td>20200611</td>\n",
       "      <td>플로이드 동생의 눈물호소 “흑인 가치가 20달러인가?”</td>\n",
       "      <td>정치테마 매집+거래량+핵심인맥 당장 줄상한가 가도 책임안집니다</td>\n",
       "      <td>70</td>\n",
       "      <td>1</td>\n",
       "    </tr>\n",
       "    <tr>\n",
       "      <th>3</th>\n",
       "      <td>NEWS09616</td>\n",
       "      <td>20200525</td>\n",
       "      <td>부고</td>\n",
       "      <td>최종목표 1000% 이상 함께 도전할 분 모집  여기 클릭</td>\n",
       "      <td>38</td>\n",
       "      <td>1</td>\n",
       "    </tr>\n",
       "    <tr>\n",
       "      <th>4</th>\n",
       "      <td>NEWS09008</td>\n",
       "      <td>20200102</td>\n",
       "      <td>신승훈, 데뷔 30주년 기념 전국 투어 ‘미소속에 비친 그대’  4월 11일 서울서 시작</td>\n",
       "      <td>똑똑해진 소비자..한국도 이젠 소형차 시대</td>\n",
       "      <td>85</td>\n",
       "      <td>1</td>\n",
       "    </tr>\n",
       "    <tr>\n",
       "      <th>5</th>\n",
       "      <td>NEWS02986</td>\n",
       "      <td>20200224</td>\n",
       "      <td>[김준형의 오토 인사이드] 코로나19와 맞서는 음압 구급차의 모든 것</td>\n",
       "      <td>가격은 얼마나 하나</td>\n",
       "      <td>36</td>\n",
       "      <td>0</td>\n",
       "    </tr>\n",
       "    <tr>\n",
       "      <th>6</th>\n",
       "      <td>NEWS05818</td>\n",
       "      <td>20200430</td>\n",
       "      <td>\"추천 인재 입사하면 2000만원 포상\"…'구인전쟁' 벌어진 곳</td>\n",
       "      <td>추천한 인재가 최종 입사하면 추천인에게 2000만원의 포상금을 지급하는 업체까지 등...</td>\n",
       "      <td>5</td>\n",
       "      <td>0</td>\n",
       "    </tr>\n",
       "    <tr>\n",
       "      <th>7</th>\n",
       "      <td>NEWS08175</td>\n",
       "      <td>20200402</td>\n",
       "      <td>코로나가 훑고간 증시, 판이 바뀌었다</td>\n",
       "      <td>당시는 금융위기가 정점을 찍은 후 코스피가 급등세를 보였던 시기다</td>\n",
       "      <td>129</td>\n",
       "      <td>0</td>\n",
       "    </tr>\n",
       "    <tr>\n",
       "      <th>8</th>\n",
       "      <td>NEWS07875</td>\n",
       "      <td>20200313</td>\n",
       "      <td>수원 임산부 마스크..통장이 직접 배부</td>\n",
       "      <td>염태영 수원시장이 임산부 마스크를 주민센터를 통해 배부하기로 결정했다고 13일 밝혔다</td>\n",
       "      <td>64</td>\n",
       "      <td>0</td>\n",
       "    </tr>\n",
       "    <tr>\n",
       "      <th>9</th>\n",
       "      <td>NEWS08760</td>\n",
       "      <td>20200610</td>\n",
       "      <td>티맥스, 정부 긴급재난지원금 소프트웨어 지원</td>\n",
       "      <td>10%수익을 40%로 만들어 준다고.. 영웅스탁론이라면 가능~.효과적인 레버리지를 ...</td>\n",
       "      <td>27</td>\n",
       "      <td>1</td>\n",
       "    </tr>\n",
       "    <tr>\n",
       "      <th>10</th>\n",
       "      <td>NEWS06900</td>\n",
       "      <td>20200428</td>\n",
       "      <td>재난지원금 기부, ‘고용보험기금’으로…모집 창구는 근로복지공단·지자체·신청접수기관</td>\n",
       "      <td>긴급재난지원금 취지를 고려할 때 명시적 의사 표시 방안을 마련하는 것이 타당하다는 것이다</td>\n",
       "      <td>36</td>\n",
       "      <td>0</td>\n",
       "    </tr>\n",
       "    <tr>\n",
       "      <th>11</th>\n",
       "      <td>NEWS03944</td>\n",
       "      <td>20200406</td>\n",
       "      <td>외교부 \"해외서 코로나19 확진 한국인 36명…더 있을 것으로 생각\"</td>\n",
       "      <td>신종코로나 바이러스 1000% 갈 新 대장주 大공개</td>\n",
       "      <td>17</td>\n",
       "      <td>1</td>\n",
       "    </tr>\n",
       "    <tr>\n",
       "      <th>12</th>\n",
       "      <td>NEWS02622</td>\n",
       "      <td>20200331</td>\n",
       "      <td>주한미군 한국인 무급휴직 1일부터 시행…정부 “협상 막바지 조율단계”</td>\n",
       "      <td>아직도 추천주를 돈내고 받으세요.</td>\n",
       "      <td>81</td>\n",
       "      <td>1</td>\n",
       "    </tr>\n",
       "    <tr>\n",
       "      <th>13</th>\n",
       "      <td>NEWS06640</td>\n",
       "      <td>20200609</td>\n",
       "      <td>[속보]통일부 “9일 오전 북측 연락사무소 전화 받지 않아”</td>\n",
       "      <td>2020년 한국 TV 2대중 1대 인터넷 연결된다</td>\n",
       "      <td>51</td>\n",
       "      <td>1</td>\n",
       "    </tr>\n",
       "    <tr>\n",
       "      <th>14</th>\n",
       "      <td>NEWS06202</td>\n",
       "      <td>20200226</td>\n",
       "      <td>“코로나 최일선, 선별진료소를 응원합니다”</td>\n",
       "      <td>감사해요.라고 적힌 귤 한 박스가 보건소로 배달되기도 했다</td>\n",
       "      <td>74</td>\n",
       "      <td>0</td>\n",
       "    </tr>\n",
       "    <tr>\n",
       "      <th>15</th>\n",
       "      <td>NEWS02899</td>\n",
       "      <td>20200506</td>\n",
       "      <td>'라임사태 핵심' 김봉현, 개인금고 여행가방에 55억 은닉</td>\n",
       "      <td>경찰, 총압수 현금 60억과 함께 검찰에 송치</td>\n",
       "      <td>2</td>\n",
       "      <td>0</td>\n",
       "    </tr>\n",
       "    <tr>\n",
       "      <th>16</th>\n",
       "      <td>NEWS02560</td>\n",
       "      <td>20200219</td>\n",
       "      <td>신세계면세점, 세계 면세업계 최초 '오프화이트' 매장 오픈</td>\n",
       "      <td>면세점·수원점 접고 올인D-10 갤러리아 광교점이 온다</td>\n",
       "      <td>13</td>\n",
       "      <td>1</td>\n",
       "    </tr>\n",
       "    <tr>\n",
       "      <th>17</th>\n",
       "      <td>NEWS04924</td>\n",
       "      <td>20200317</td>\n",
       "      <td>“신천지 세뇌돼 샴푸 먹고 비누 씹었다”  [인터뷰]</td>\n",
       "      <td>유충민우원희이소진 PD</td>\n",
       "      <td>79</td>\n",
       "      <td>0</td>\n",
       "    </tr>\n",
       "    <tr>\n",
       "      <th>18</th>\n",
       "      <td>NEWS04632</td>\n",
       "      <td>20200403</td>\n",
       "      <td>[뉴스핌 뉴스레터 Today ANDA] 4월 3일</td>\n",
       "      <td>월요일부터 금요일까지 오후 4시에 배달됩니다</td>\n",
       "      <td>2</td>\n",
       "      <td>0</td>\n",
       "    </tr>\n",
       "    <tr>\n",
       "      <th>19</th>\n",
       "      <td>NEWS01547</td>\n",
       "      <td>20200617</td>\n",
       "      <td>오토노머스에이투지 “자율주행차 기술, 100% 안전 아니면 의미 없다”</td>\n",
       "      <td>이어 중소벤처기업부의 예비유니콘 기업에도 꼽히는 등 기술력을 입증받았다</td>\n",
       "      <td>29</td>\n",
       "      <td>0</td>\n",
       "    </tr>\n",
       "  </tbody>\n",
       "</table>\n",
       "</div>"
      ],
      "text/plain": [
       "         n_id      date  ...  ord information\n",
       "0   NEWS09611  20200113  ...   70           0\n",
       "1   NEWS08586  20200507  ...   12           0\n",
       "2   NEWS07112  20200611  ...   70           1\n",
       "3   NEWS09616  20200525  ...   38           1\n",
       "4   NEWS09008  20200102  ...   85           1\n",
       "5   NEWS02986  20200224  ...   36           0\n",
       "6   NEWS05818  20200430  ...    5           0\n",
       "7   NEWS08175  20200402  ...  129           0\n",
       "8   NEWS07875  20200313  ...   64           0\n",
       "9   NEWS08760  20200610  ...   27           1\n",
       "10  NEWS06900  20200428  ...   36           0\n",
       "11  NEWS03944  20200406  ...   17           1\n",
       "12  NEWS02622  20200331  ...   81           1\n",
       "13  NEWS06640  20200609  ...   51           1\n",
       "14  NEWS06202  20200226  ...   74           0\n",
       "15  NEWS02899  20200506  ...    2           0\n",
       "16  NEWS02560  20200219  ...   13           1\n",
       "17  NEWS04924  20200317  ...   79           0\n",
       "18  NEWS04632  20200403  ...    2           0\n",
       "19  NEWS01547  20200617  ...   29           0\n",
       "\n",
       "[20 rows x 6 columns]"
      ]
     },
     "execution_count": 6,
     "metadata": {
      "tags": []
     },
     "output_type": "execute_result"
    }
   ],
   "source": [
    "train[0:20]"
   ]
  },
  {
   "cell_type": "code",
   "execution_count": null,
   "metadata": {
    "colab": {
     "base_uri": "https://localhost:8080/"
    },
    "id": "84dEFEAJKe5X",
    "outputId": "4fa6b1cc-de49-432f-804a-583fe8ca4db5"
   },
   "outputs": [
    {
     "name": "stdout",
     "output_type": "stream",
     "text": [
      "Collecting sentencepiece\n",
      "\u001b[?25l  Downloading https://files.pythonhosted.org/packages/e5/2d/6d4ca4bef9a67070fa1cac508606328329152b1df10bdf31fb6e4e727894/sentencepiece-0.1.94-cp36-cp36m-manylinux2014_x86_64.whl (1.1MB)\n",
      "\u001b[K     |████████████████████████████████| 1.1MB 4.3MB/s \n",
      "\u001b[?25hInstalling collected packages: sentencepiece\n",
      "Successfully installed sentencepiece-0.1.94\n"
     ]
    }
   ],
   "source": [
    "!pip install sentencepiece"
   ]
  },
  {
   "cell_type": "code",
   "execution_count": null,
   "metadata": {
    "id": "g4Xgl9RtsGul"
   },
   "outputs": [],
   "source": [
    "import logging\n",
    "import os\n",
    "import unicodedata\n",
    "from shutil import copyfile\n",
    "\n",
    "from transformers import PreTrainedTokenizer\n",
    "\n",
    "\n",
    "logger = logging.getLogger(__name__)\n",
    "\n",
    "VOCAB_FILES_NAMES = {\"vocab_file\": \"tokenizer_78b3253a26.model\",\n",
    "                     \"vocab_txt\": \"vocab.txt\"}\n",
    "\n",
    "PRETRAINED_VOCAB_FILES_MAP = {\n",
    "    \"vocab_file\": {\n",
    "        \"monologg/kobert\": \"https://s3.amazonaws.com/models.huggingface.co/bert/monologg/kobert/tokenizer_78b3253a26.model\",\n",
    "        \"monologg/kobert-lm\": \"https://s3.amazonaws.com/models.huggingface.co/bert/monologg/kobert-lm/tokenizer_78b3253a26.model\",\n",
    "        \"monologg/distilkobert\": \"https://s3.amazonaws.com/models.huggingface.co/bert/monologg/distilkobert/tokenizer_78b3253a26.model\"\n",
    "    },\n",
    "    \"vocab_txt\": {\n",
    "        \"monologg/kobert\": \"https://s3.amazonaws.com/models.huggingface.co/bert/monologg/kobert/vocab.txt\",\n",
    "        \"monologg/kobert-lm\": \"https://s3.amazonaws.com/models.huggingface.co/bert/monologg/kobert-lm/vocab.txt\",\n",
    "        \"monologg/distilkobert\": \"https://s3.amazonaws.com/models.huggingface.co/bert/monologg/distilkobert/vocab.txt\"\n",
    "    }\n",
    "}\n",
    "\n",
    "PRETRAINED_POSITIONAL_EMBEDDINGS_SIZES = {\n",
    "    \"monologg/kobert\": 512,\n",
    "    \"monologg/kobert-lm\": 512,\n",
    "    \"monologg/distilkobert\": 512\n",
    "}\n",
    "\n",
    "PRETRAINED_INIT_CONFIGURATION = {\n",
    "    \"monologg/kobert\": {\"do_lower_case\": False},\n",
    "    \"monologg/kobert-lm\": {\"do_lower_case\": False},\n",
    "    \"monologg/distilkobert\": {\"do_lower_case\": False}\n",
    "}\n",
    "\n",
    "SPIECE_UNDERLINE = u'▁'\n",
    "\n",
    "\n",
    "class KoBertTokenizer(PreTrainedTokenizer):\n",
    "    \"\"\"\n",
    "        SentencePiece based tokenizer. Peculiarities:\n",
    "            - requires `SentencePiece <https://github.com/google/sentencepiece>`_\n",
    "    \"\"\"\n",
    "    vocab_files_names = VOCAB_FILES_NAMES\n",
    "    pretrained_vocab_files_map = PRETRAINED_VOCAB_FILES_MAP\n",
    "    pretrained_init_configuration = PRETRAINED_INIT_CONFIGURATION\n",
    "    max_model_input_sizes = PRETRAINED_POSITIONAL_EMBEDDINGS_SIZES\n",
    "\n",
    "    def __init__(\n",
    "            self,\n",
    "            vocab_file,\n",
    "            vocab_txt,\n",
    "            do_lower_case=False,\n",
    "            remove_space=True,\n",
    "            keep_accents=False,\n",
    "            unk_token=\"[UNK]\",\n",
    "            sep_token=\"[SEP]\",\n",
    "            pad_token=\"[PAD]\",\n",
    "            cls_token=\"[CLS]\",\n",
    "            mask_token=\"[MASK]\",\n",
    "            **kwargs):\n",
    "        super().__init__(\n",
    "            unk_token=unk_token,\n",
    "            sep_token=sep_token,\n",
    "            pad_token=pad_token,\n",
    "            cls_token=cls_token,\n",
    "            mask_token=mask_token,\n",
    "            **kwargs\n",
    "        )\n",
    "\n",
    "\n",
    "        self.token2idx = dict()\n",
    "        self.idx2token = []\n",
    "        with open(vocab_txt, 'r', encoding='utf-8') as f:\n",
    "            for idx, token in enumerate(f):\n",
    "                token = token.strip()\n",
    "                self.token2idx[token] = idx\n",
    "                self.idx2token.append(token)\n",
    "\n",
    "\n",
    "        try:\n",
    "            import sentencepiece as spm\n",
    "        except ImportError:\n",
    "            logger.warning(\"You need to install SentencePiece to use KoBertTokenizer: https://github.com/google/sentencepiece\"\n",
    "                           \"pip install sentencepiece\")\n",
    "\n",
    "        self.do_lower_case = do_lower_case\n",
    "        self.remove_space = remove_space\n",
    "        self.keep_accents = keep_accents\n",
    "        self.vocab_file = vocab_file\n",
    "        self.vocab_txt = vocab_txt\n",
    "\n",
    "        self.sp_model = spm.SentencePieceProcessor()\n",
    "        self.sp_model.Load(vocab_file)\n",
    "\n",
    "    @property\n",
    "    def vocab_size(self):\n",
    "        return len(self.idx2token)\n",
    "\n",
    "    def __getstate__(self):\n",
    "        state = self.__dict__.copy()\n",
    "        state[\"sp_model\"] = None\n",
    "        return state\n",
    "\n",
    "    def __setstate__(self, d):\n",
    "        self.__dict__ = d\n",
    "        try:\n",
    "            import sentencepiece as spm\n",
    "        except ImportError:\n",
    "            logger.warning(\"You need to install SentencePiece to use KoBertTokenizer: https://github.com/google/sentencepiece\"\n",
    "                           \"pip install sentencepiece\")\n",
    "        self.sp_model = spm.SentencePieceProcessor()\n",
    "        self.sp_model.Load(self.vocab_file)\n",
    "\n",
    "    def preprocess_text(self, inputs):\n",
    "        if self.remove_space:\n",
    "            outputs = \" \".join(inputs.strip().split())\n",
    "        else:\n",
    "            outputs = inputs\n",
    "        outputs = outputs.replace(\"``\", '\"').replace(\"''\", '\"')\n",
    "\n",
    "        if not self.keep_accents:\n",
    "            outputs = unicodedata.normalize('NFKD', outputs)\n",
    "            outputs = \"\".join([c for c in outputs if not unicodedata.combining(c)])\n",
    "        if self.do_lower_case:\n",
    "            outputs = outputs.lower()\n",
    "\n",
    "        return outputs\n",
    "\n",
    "    def _tokenize(self, text, return_unicode=True, sample=False):\n",
    "        \"\"\" Tokenize a string. \"\"\"\n",
    "        text = self.preprocess_text(text)\n",
    "\n",
    "        if not sample:\n",
    "            pieces = self.sp_model.EncodeAsPieces(text)\n",
    "        else:\n",
    "            pieces = self.sp_model.SampleEncodeAsPieces(text, 64, 0.1)\n",
    "        new_pieces = []\n",
    "        for piece in pieces:\n",
    "            if len(piece) > 1 and piece[-1] == str(\",\") and piece[-2].isdigit():\n",
    "                cur_pieces = self.sp_model.EncodeAsPieces(piece[:-1].replace(SPIECE_UNDERLINE, \"\"))\n",
    "                if piece[0] != SPIECE_UNDERLINE and cur_pieces[0][0] == SPIECE_UNDERLINE:\n",
    "                    if len(cur_pieces[0]) == 1:\n",
    "                        cur_pieces = cur_pieces[1:]\n",
    "                    else:\n",
    "                        cur_pieces[0] = cur_pieces[0][1:]\n",
    "                cur_pieces.append(piece[-1])\n",
    "                new_pieces.extend(cur_pieces)\n",
    "            else:\n",
    "                new_pieces.append(piece)\n",
    "\n",
    "        return new_pieces\n",
    "\n",
    "    def _convert_token_to_id(self, token):\n",
    "        \"\"\" Converts a token (str/unicode) in an id using the vocab. \"\"\"\n",
    "        return self.token2idx.get(token, self.token2idx[self.unk_token])\n",
    "\n",
    "    def _convert_id_to_token(self, index, return_unicode=True):\n",
    "        \"\"\"Converts an index (integer) in a token (string/unicode) using the vocab.\"\"\"\n",
    "        return self.idx2token[index]\n",
    "\n",
    "    def convert_tokens_to_string(self, tokens):\n",
    "        \"\"\"Converts a sequence of tokens (strings for sub-words) in a single string.\"\"\"\n",
    "        out_string = \"\".join(tokens).replace(SPIECE_UNDERLINE, \" \").strip()\n",
    "        return out_string\n",
    "\n",
    "    def build_inputs_with_special_tokens(self, token_ids_0, token_ids_1=None):\n",
    "        \"\"\"\n",
    "        Build model inputs from a sequence or a pair of sequence for sequence classification tasks\n",
    "        by concatenating and adding special tokens.\n",
    "        A RoBERTa sequence has the following format:\n",
    "            single sequence: [CLS] X [SEP]\n",
    "            pair of sequences: [CLS] A [SEP] B [SEP]\n",
    "        \"\"\"\n",
    "        if token_ids_1 is None:\n",
    "            return [self.cls_token_id] + token_ids_0 + [self.sep_token_id]\n",
    "        cls = [self.cls_token_id]\n",
    "        sep = [self.sep_token_id]\n",
    "        return cls + token_ids_0 + sep + token_ids_1 + sep\n",
    "\n",
    "    def get_special_tokens_mask(self, token_ids_0, token_ids_1=None, already_has_special_tokens=False):\n",
    "        \"\"\"\n",
    "        Retrieves sequence ids from a token list that has no special tokens added. This method is called when adding\n",
    "        special tokens using the tokenizer ``prepare_for_model`` or ``encode_plus`` methods.\n",
    "        Args:\n",
    "            token_ids_0: list of ids (must not contain special tokens)\n",
    "            token_ids_1: Optional list of ids (must not contain special tokens), necessary when fetching sequence ids\n",
    "                for sequence pairs\n",
    "            already_has_special_tokens: (default False) Set to True if the token list is already formated with\n",
    "                special tokens for the model\n",
    "        Returns:\n",
    "            A list of integers in the range [0, 1]: 0 for a special token, 1 for a sequence token.\n",
    "        \"\"\"\n",
    "\n",
    "        if already_has_special_tokens:\n",
    "            if token_ids_1 is not None:\n",
    "                raise ValueError(\n",
    "                    \"You should not supply a second sequence if the provided sequence of \"\n",
    "                    \"ids is already formated with special tokens for the model.\"\n",
    "                )\n",
    "            return list(map(lambda x: 1 if x in [self.sep_token_id, self.cls_token_id] else 0, token_ids_0))\n",
    "\n",
    "        if token_ids_1 is not None:\n",
    "            return [1] + ([0] * len(token_ids_0)) + [1] + ([0] * len(token_ids_1)) + [1]\n",
    "        return [1] + ([0] * len(token_ids_0)) + [1]\n",
    "\n",
    "    def create_token_type_ids_from_sequences(self, token_ids_0, token_ids_1=None):\n",
    "        \"\"\"\n",
    "        Creates a mask from the two sequences passed to be used in a sequence-pair classification task.\n",
    "        A BERT sequence pair mask has the following format:\n",
    "        0 0 0 0 0 0 0 0 0 0 1 1 1 1 1 1 1 1 1 1 1\n",
    "        | first sequence    | second sequence\n",
    "        if token_ids_1 is None, only returns the first portion of the mask (0's).\n",
    "        \"\"\"\n",
    "        sep = [self.sep_token_id]\n",
    "        cls = [self.cls_token_id]\n",
    "        if token_ids_1 is None:\n",
    "            return len(cls + token_ids_0 + sep) * [0]\n",
    "        return len(cls + token_ids_0 + sep) * [0] + len(token_ids_1 + sep) * [1]\n",
    "\n",
    "    def save_vocabulary(self, save_directory):\n",
    "        \"\"\" Save the sentencepiece vocabulary (copy original file) and special tokens file\n",
    "            to a directory.\n",
    "        \"\"\"\n",
    "        if not os.path.isdir(save_directory):\n",
    "            logger.error(\"Vocabulary path ({}) should be a directory\".format(save_directory))\n",
    "            return\n",
    "\n",
    "        out_vocab_model = os.path.join(save_directory, VOCAB_FILES_NAMES[\"vocab_file\"])\n",
    "\n",
    "        if os.path.abspath(self.vocab_file) != os.path.abspath(out_vocab_model):\n",
    "            copyfile(self.vocab_file, out_vocab_model)\n",
    "\n",
    "        index = 0\n",
    "        out_vocab_txt = os.path.join(save_directory, VOCAB_FILES_NAMES[\"vocab_txt\"])\n",
    "        with open(out_vocab_txt, \"w\", encoding=\"utf-8\") as writer:\n",
    "            for token, token_index in sorted(self.token2idx.items(), key=lambda kv: kv[1]):\n",
    "                if index != token_index:\n",
    "                    logger.warning(\n",
    "                        \"Saving vocabulary to {}: vocabulary indices are not consecutive.\"\n",
    "                        \" Please check that the vocabulary is not corrupted!\".format(out_vocab_txt)\n",
    "                    )\n",
    "                    index = token_index\n",
    "                writer.write(token + \"\\n\")\n",
    "                index += 1\n",
    "\n",
    "        return out_vocab_model, out_vocab_txt"
   ]
  },
  {
   "cell_type": "code",
   "execution_count": null,
   "metadata": {
    "id": "iFa06IlO50IF"
   },
   "outputs": [],
   "source": [
    "tokenizer = KoBertTokenizer.from_pretrained('monologg/kobert')"
   ]
  },
  {
   "cell_type": "code",
   "execution_count": null,
   "metadata": {
    "id": "fLvKKKOsMQaS"
   },
   "outputs": [],
   "source": [
    "train['Review'] = (train['title'].map(str) +' '+ train['content']).apply(lambda row: row.strip())\n",
    "test['Review'] = (test['title'].map(str) +' '+ test['content']).apply(lambda row: row.strip())"
   ]
  },
  {
   "cell_type": "code",
   "execution_count": null,
   "metadata": {
    "id": "9u4AywDKBmzn"
   },
   "outputs": [],
   "source": [
    "#불러올 파일의 경로를 filename 변수에 저장\n",
    "filename2 = '/content/gdrive/MyDrive/Colab Notebooks/News_detection/train_test/words1.csv'\n",
    "\n",
    "#pandas read_csv로 불러오기\n",
    "words = pd.read_csv(filename2)"
   ]
  },
  {
   "cell_type": "code",
   "execution_count": null,
   "metadata": {
    "colab": {
     "base_uri": "https://localhost:8080/"
    },
    "id": "umE63RLQBm6G",
    "outputId": "f60f4ed9-7c19-47ca-aeef-0055e8edc301"
   },
   "outputs": [
    {
     "data": {
      "text/plain": [
       "2930    캠페인\n",
       "2931     포함\n",
       "2932     검토\n",
       "2933     발생\n",
       "2934     대표\n",
       "       ... \n",
       "4108     방안\n",
       "4109     인증\n",
       "4110     주말\n",
       "4111     주총\n",
       "4112     향해\n",
       "Name: word, Length: 1183, dtype: object"
      ]
     },
     "execution_count": 21,
     "metadata": {
      "tags": []
     },
     "output_type": "execute_result"
    }
   ],
   "source": [
    "stopwords = words.word[2930:4144]\n",
    "stopwords"
   ]
  },
  {
   "cell_type": "code",
   "execution_count": null,
   "metadata": {
    "colab": {
     "base_uri": "https://localhost:8080/"
    },
    "id": "ELLTAF8rBs7H",
    "outputId": "de50ad0c-a3bb-4ca7-ba14-e51ea92fcecf"
   },
   "outputs": [
    {
     "name": "stdout",
     "output_type": "stream",
     "text": [
      "['캠페인', '포함', '검토', '발생', '대표', '넘어', '업체', '하면', '이사', '충북', '해야', '동반', '2010년', '52주신고가를', '5년간', 'CES', '개의', '개정', '검찰에', '경고했다', '공개한', '공천', '관내', '그가', '기간에', '기능이', '기반을', '기업으로', '긴', '끝에', '남아', '노하우를', '느낄', '능력을', '단위', '단체', '당국은', '대기업', '대부분의', '대표의', '매장에서', '면밀히', '못할', '미니', '미만', '바란다\"고', '번째로', '베이징', '별', '부총리는', '불법', '삼성전자가', '상장폐지', '서울=연합인포맥스', '서울에서', '선보였다', '세계적', '소송을', '소프트웨어', '실내', '않다고', '앱을', '언급한', '업체가', '연준이', '오랜', '우려를', '위험을', '유명한', '이하로', '일부를', '임원주요주주', '입은', '있어야', '점검하고', '조정을', '주간', '주류', '주문', '주체로', '줄이기', '증가로', '증가해', '추', '추후', '충격을', '크지', '투표', '프로젝트를', '했던', '헬스케어', '형태의', '확대로', '환경이', '회사가', '접수', '6개', '코로나19에', '이용', '피해', '러시아', '앱', '찾는', '의약품', '50대', '개발해', '곳이다', '관리에', '교육부', '구는', '구축하고', '급여', '기념해', '기록을', '깊은', '나아가', '늘려', '다하겠다고', '달라고', '대응에', '되길', '따로', '문제로', '문제에', '변화가', '보낸', '사건을', '설', '소개했다', '속보', '승인을', '입주', '자리', '주식수는', '준비를', '지배구조', '집단', '측이', '펀드는', '평소', '하다', '화상', '1만', '타다', '중단', '집값', '방문', '정책', '20대', '되고', '대만', '평가', '블록체인', '0%대', '000님', '96530', '1000만원', '10만', '10억', '10초면', '13만', '1개', '1개월안에', '1위는', '200명', '2020年', '2020년은', '2곳', '2번째', '31번째', '32번째', '3상', '3일안에', '3천원대', '40대', '4개월', '4차산업', '5000억원', '500억', '50원', '52주', '53세', '6月', '6억', '7세대', '7인의', '8조', 'AIB-CTS\"를', 'DB금융투자', 'Fed', 'GV80', 'ITBC스탁의', 'LNG선', 'OLED', 'OOO', 'PLUS', 'R&amp;D', 'RFHIC', 'SK브로드밴드', 'SK텔레콤', 'SK하이닉스와', 'SUV', 'TOP1', 'TOP5', '中위안화고시환율', '故', '日정부', '英', '가속화', '가입비', '가입비가', '가입을', '간담회', '간호사', '감사', '감소세', '갓갓', '강경화', '개막', '개인투자자를', '개장즉시', '거래소', '거짓말', '걱정', '건조기', '검찰총장', '견본주택', '결혼', '경남바이오파마', '경신', '경쟁률', '계좌에', '고수는', '고용보험', '공략합니다', '공무원', '공적마스크', '공포에', '과기부', '관련기사', '관련주에', '교민', '교수', '국경', '국동(005320)', '국민연금', '군중이', '궁금하시다면', '권고', '권홍사', '근황', '금리인하', '금일', '금지', '급기야', '급등세를', '급등에', '급부상', '급증', '기관·개인', '기념', '기온', '기자회견', '기회로', '길', '꾸준한', '꿈만같아요', '나누는', '나쁨', '나스닥', '나오나', '나왔습니다', '남구', '남북', '남북관계', '논문', '농협은행장', '뉴스', '뉴스를', '닛케이지수', '다급한', '다음에', '단타로', '달새', '대구시장', '대반전', '대북', '대신증권', '대우조선해양', '대응하시기', '대장株', '대장이', '대전시', '대전시청', '대주산업', '대체', '대치동', '대형마트', '더블유아이', '도발', '도전', '도쿄', '동학개미들', '돼지열병(ASF)', '됐었습니다', '두려워하는', '두올산업', '뒤집힌', '드라이브', '드러난', '드렸습니다', '들썩', '등교', '등급', '등장', '디에스케이', '디피씨(026890)', '땅', '때보다', '똑똑하고', '뜨는', '라이트&amp;apos', '러시', '로또', '마감평균', '마니커에프앤지', '마음', '마이크로텍', '막말', '만들겠다', '만들기가', '만에\"이럴', '말만', '말아야', '말에', '맞춤화된', '매도에', '매매가', '매매타이밍', '매수만', '매수하세요', '매수해도', '매월', '매일매일이', '매집', '맥점자리를', '맹공', '머리', '먹은', '메가엠디(133750)', '메디톡스(086900)', '면세점', '명성티엔에스', '모나리자', '모나리자(012690)', '모더나', '모릅니다', '목표가를', '몰려간', '못합니다', '무더기', '무료종목상담', '무료카톡방에서', '문구를', '문자대로', '물류창고', '뭔가', '미국주식', '미래나노텍(095500)', '미래에셋대우', '미스터블루', '민낯', '바꿔줄', '바로입장', '바이오의약품', '반년', '반응', '반토막', '받아보세요', '발동동', '발목', '발행', '방산주', '방식', '방탄소년단', '배현진', '백종원', '벌게', '벌써', '벌어진', '법사위', '법안', '베테랑', '변호사', '보성군', '보수통합', '봉쇄', '부광약품(003000)', '부로', '부자', '부작용', '부채비율', '분석합니다', '분은', '분쟁', '불매운동(수혜)', '불확실성', '붙은', '비결', '비밀번호', '빌딩', '빛난', '사기', '사라진', '사세요', '사우디', '사이', '사전투표', '삼국블레이드', '삼륭물산', '삼성전자SK하이닉스', '상가', '상상도', '상용화', '상위1', '상폐', '생각하세요', '선보여', '선착순으로', '선택한', '섣부른', '성수기', '성추행', '세계가', '세계서', '세계최초로', '세화아이엠씨', '셀리드', '셀트리온제약(068760)', '소장', '속출', '손석희', '손실이', '송도', '쇼크', '수원', '수익률을', '수입승인', '순', '숨겨진', '스타벅스', '스페인', '시그널', '시디즈', '시민당과', '시스템반도체', '시황변동', '신개념', '신고', '신년', '신뢰', '신신제약(002800)', '신용', '신용불량자', '실업급여', '실전매매', '싶다면', '싶은데', '싹', '쏘렌토', '쏟아진다', '쓰나미', '아내', '아래와', '아무것도', '아이디어를', '아이즈비전(031310)', '아이큐어(175250)', '아프리카', '아프리카TV', '악의적', '안돼', '안태일', '알려드립니다', '알짜', '압승', '액션스퀘어', '어워드', '어쩌다가', '얼마', '얼마길래', '엄청나게', '업체에서', '에쓰오일', '에이비엘바이오', '에코마이스터', '엑셈', '엔에스', '연락주신', '열차', '영향은', '영흥철강', '예고', '오공(045060)', '오늘(17일)', '오늘까지만', '오르는', '오지', '올라타기', '올리는', '올림픽', '올지', '와이오엠', '와이제이엠게임즈', '와이파이', '완벽', '왔을', '용산', '우려에도', '우리손에프앤지', '우린', '움직임', '움직임을', '원내대표', '원이', '월요일상한가', '위험한', '위협', '유망주로', '유망주를', '유시민', '유증', '유튜버', '육계', '윤미향', '은밀한', '은행장', '응원', '이것', '이력', '이례적으로', '이마트', '이마트24', '이명수', '이슈몰이를', '이지바이오(29.9)', '이쯤', '이틀째', '인생역전', '인테리어', '일시', '일야', '입수', '입증', '자발적', '자신감', '자율주행차', '자제', '작년에', '작성', '잘나가던', '잘못', '잡는', '잡아', '잡아보자', '재개발', '재료가', '재료와', '재산', '재택', '재평가', '재확산', '재확산에', '저변', '적', '적중.*20.05.20', '적중.*20.05.27', '전년比', '전세계가', '전세계적으로', '전주', '전지', '정부정책', '정상들', '정식으로', '정신', '정은경', '제21대', '제기', '제네시스', '제넥신', '제발', '제일', '제품이', '제한적', '조금씩', '조기마감합니다', '종목들의', '주목하는', '주민들', '주식시장의', '주식신문', '주식으로', '주식은', '주식형', '주장', '주주총회', '준비하는', '중국을', '중기부', '증권가', '증권전문방송', '증명합니다', '지경', '지도', '지연', '진단시약', '진화', '징계', '차', '차단', '창해에탄올', '찾았습니다', '찾은', '청소년', '체크카드', '체크해', '초토화', '총력', '총장', '추미애', '추월', '추정', '추천받기', '축하드립니다', '출마', '출석', '충격파', '충분합니다', '치료에', '침체', '카카오', '카타르', '캠시스', '커버리지', '케어', '케어랩스', '코미팜', '코오롱인더', '쿠팡', '클럽발', '클릭하면', '키위미디어그룹', '키트', '타격', '타이밍을', '탄', '통화', '투자의', '투자자라면', '투잡', '특단의', '파견', '파수', '팔', '패널', '편안하게', '편지', '평생무료', '포기', '포스코인터내셔널', '포착해서', '폭발적으로', '폭발적인', '폭발합니다', '폭주', '폭파', '폭파에', '풀자', '프로모션', '플렉서블', '피씨엘', '필링크', '하기만', '하나도', '하나은행', '하락...다우', '하루만에', '하실', '한국당', '한국알콜', '한국에서', '한국철도', '한국판', '한국화장품', '한류', '한방', '한창제지(009460)', '한탄', '한화그룹', '한화솔루션', '한화투자증권', '항상', '해외주식', '해태아이스크림', '행진', '혁통위', '현대바이오', '혈액', '혈장치료', '혈장치료제', '혐의', '(화)상승', '화웨이', '확', '확인하세요.(입장)', '확인하시고', '확인하시기', '환율', '환호', '(회원)마지막이다', '효과에', '후기', '후속주는', '휴마시스', '희비', '힘들다', '女배우', '화재', '전일대비', '격리', '손', '꾸준히', '원유', '떨어진', '학생', '증시', '2020년', '계속', '대출', '해', '성과를', '3개월', '빅데이터', '행사', '가치', '사람은', '인도', '태양광', '소비자', '이전', '애플', '확인하고', '회의', '2명', '이제', '내린', '확진', '없다', '것이라는', '않다', '직전', '수사', '얼마나', '확보', '전에', '제주', '24시간', '나는', '개선', '빠른', '높아', '새롭게', '자가격리', '우리가', '라임', '이내', '홍보', '기대감이', '스타트업', '영향', '그대로', '협력', '유럽', '넘게', '하향', '처리', '고급', '임대료', '집', '인하', '제', '달', '다음', '대신', '맞춤형', '금융위기', '내달', '못했다', '중동', '선정', '대책', '청약', '활용할', '2차', '하루', '아직', '배터리', '역대', '경찰', '맞은', '빨리', '이렇게', '증가하고', '네트워크', '1/20로', '1000명', '100만원', '100원', '10대', '14명', '17억하던', '19명', '20.04.07', '200만원', '20억원', '26만', '2797억', '27억', '300%가까이', '4월로', '5G저변확대에', '5월말', '6년', '7개', '7번째', 'GC녹십자엠에스', 'ITBC스탁', 'LG유플러스와', 'SK네트웍스', 'USMCA', '韓관광객', '가도', '감고', '강력추천', '경로를', '고흥군', '공모전', '공시', '괴질', '긍정', '기업인', '긴급이슈', '꺾은', '나도', '나오면', '낭패', '내는', '내연녀', '노려볼', '누르고', '다운로드', '당부', '대단히', '덕에', '동거', '되나', '됨에', '들고', '마그네슘', '마무리', '마치고', '막바지', '맛보게', '매도세에', '매매로', '면세점과', '모친', '무료신청CLICK', '바이오인식(생체인식)', '반영되면서', '반포아파트', '반환', '발굴해', '방어', '백', '병용임상', '부합', '빚내서', '뺨친', '사드', '사회공헌', '생산원가를', '성폭행', '손보사', '수백', '수요도', '수조원대', '수주에', '쉿', '시연', '신속대응팀', '쌍끌이', '아빠', '아이디어', '알았더니', '에이치엘사이언스', '엔시트론(101400)', '여야', '오늘이', '오열한', '웰크론', '유재형', '유전자', '의안을', '이르면', '인식', '일본과', '입수한', '자리에', '자사만의', '재선', '저하', '전부', '전세가', '전체적인', '조원태', '주겠다', '주도주로', '준비하세요', '중국산', '중국인', '지구', '찾지', '처럼', '청주', '초저가', '추가적으로', '출렁이는', '치료제/분석', '치료제의', '치솟았지만', '큰손들이', '택배', '통신시장의', '통제', '판타지오', '피앤이솔루션', '하셨나요', '한신평', '향하는', '화장품은', '활동보장', '효율화', '휴점일', '흡연자', '희귀병', '희소식', '女원룸', '자금을', '지분', '밖에', '베트남', '활용', '4개', '영업', '조기', 'LCD', '계열사', '모델로', '잇따라', '절반', '나서고', '발굴', '방지', '출발', '4차', '계획', '한달', '마지막', '준비', '만든', '시각', '혁신', '예상되는', '인수', '조성', '이래', '찾아', '씨가', '자주', '유가', '예방', '스마트폰', '1년', '나올', '현금', '직후', '신임', '재택근무', '지하철', '유지', '홍남기', '사건', '사장', '우려', '장관', '검사', '지급', '부산', '민주당', '일본', '경기도', '금리', '북한', '당장', '입국', '3차', '별도', '투자자들은', '역사', '한국과', '광고', '기본', '이탈리아', '5개', '디스플레이', '보유', '가지고', '긴급', '위반', '일제히', '조치', '도입', '정식', '한국을', '내수', '대', '마이너스', '개', '지정', '장', '대한민국', '내년', '일이', '전망이', '정치', '편의점', '회사채', '가수', '공적', '위기에', '한미', '덕분에', '목표', '긴급재난지원금', '사태', '6월', '추진', '상반기', '하반기', '직원', '청년', '곳이', '신제품', '못해', '어려울', '지수', '측', '종목이', '나선', '3월', '없이', '마련', '힘든', '이어갈', '훨씬', '가입', '경영권', '대한항공', '준', '입원', '2개', '사외이사', '내고', '완화', '반드시', '확대', '경제의', '등록', '백화점', '성장할', '인사', '허가', '금융시장', '세금', '의견', '눈길을', '증시가', '합의', '보는', '중소기업', '주식을', '매각', '정확한', '제작', '법인', '올라', '초과', '나', '말이', '연일', '우한', '대전', '솔루션', '시행', '양성', '좀', '카메라', '본격', '제공하고', '새', '매장', '되면', '수익성', '치료', '기회가', '모델', '하나', '하나의', '곳에', '기준금리', '늘어', '시험', '전세', '대표이사', '호주', '공장', '트럼프', '보고', '29일', '어떤', '없어', '현', '안에', '10개', '가족', '되지', '부회장', '분양가', '유입', '지수가', '진단', '필리핀', '가능하며', '공모', '반대', '외교부', '자회사', '제출', '사람', '감산', '실시간', '심각한', '할인', '사상', '법무부', '변경', '연장', '장비', '물량', '유명', '나선다', '프로그램', '검찰', '대구', '작년', '단독', '방안', '인증', '주말', '주총', '향해']\n"
     ]
    }
   ],
   "source": [
    "l_1d = stopwords.values.tolist()\n",
    "print(l_1d)"
   ]
  },
  {
   "cell_type": "code",
   "execution_count": null,
   "metadata": {
    "colab": {
     "base_uri": "https://localhost:8080/"
    },
    "id": "KxluwT0mBuP3",
    "outputId": "9c02050a-5e0b-449c-e919-e829c9e81635"
   },
   "outputs": [
    {
     "name": "stdout",
     "output_type": "stream",
     "text": [
      "캠페인|포함|검토|발생|대표|넘어|업체|하면|이사|충북|해야|동반|2010년|52주신고가를|5년간|CES|개의|개정|검찰에|경고했다|공개한|공천|관내|그가|기간에|기능이|기반을|기업으로|긴|끝에|남아|노하우를|느낄|능력을|단위|단체|당국은|대기업|대부분의|대표의|매장에서|면밀히|못할|미니|미만|바란다\"고|번째로|베이징|별|부총리는|불법|삼성전자가|상장폐지|서울=연합인포맥스|서울에서|선보였다|세계적|소송을|소프트웨어|실내|않다고|앱을|언급한|업체가|연준이|오랜|우려를|위험을|유명한|이하로|일부를|임원주요주주|입은|있어야|점검하고|조정을|주간|주류|주문|주체로|줄이기|증가로|증가해|추|추후|충격을|크지|투표|프로젝트를|했던|헬스케어|형태의|확대로|환경이|회사가|접수|6개|코로나19에|이용|피해|러시아|앱|찾는|의약품|50대|개발해|곳이다|관리에|교육부|구는|구축하고|급여|기념해|기록을|깊은|나아가|늘려|다하겠다고|달라고|대응에|되길|따로|문제로|문제에|변화가|보낸|사건을|설|소개했다|속보|승인을|입주|자리|주식수는|준비를|지배구조|집단|측이|펀드는|평소|하다|화상|1만|타다|중단|집값|방문|정책|20대|되고|대만|평가|블록체인|0%대|000님|96530|1000만원|10만|10억|10초면|13만|1개|1개월안에|1위는|200명|2020年|2020년은|2곳|2번째|31번째|32번째|3상|3일안에|3천원대|40대|4개월|4차산업|5000억원|500억|50원|52주|53세|6月|6억|7세대|7인의|8조|AIB-CTS\"를|DB금융투자|Fed|GV80|ITBC스탁의|LNG선|OLED|OOO|PLUS|R&amp;D|RFHIC|SK브로드밴드|SK텔레콤|SK하이닉스와|SUV|TOP1|TOP5|中위안화고시환율|故|日정부|英|가속화|가입비|가입비가|가입을|간담회|간호사|감사|감소세|갓갓|강경화|개막|개인투자자를|개장즉시|거래소|거짓말|걱정|건조기|검찰총장|견본주택|결혼|경남바이오파마|경신|경쟁률|계좌에|고수는|고용보험|공략합니다|공무원|공적마스크|공포에|과기부|관련기사|관련주에|교민|교수|국경|국동(005320)|국민연금|군중이|궁금하시다면|권고|권홍사|근황|금리인하|금일|금지|급기야|급등세를|급등에|급부상|급증|기관·개인|기념|기온|기자회견|기회로|길|꾸준한|꿈만같아요|나누는|나쁨|나스닥|나오나|나왔습니다|남구|남북|남북관계|논문|농협은행장|뉴스|뉴스를|닛케이지수|다급한|다음에|단타로|달새|대구시장|대반전|대북|대신증권|대우조선해양|대응하시기|대장株|대장이|대전시|대전시청|대주산업|대체|대치동|대형마트|더블유아이|도발|도전|도쿄|동학개미들|돼지열병(ASF)|됐었습니다|두려워하는|두올산업|뒤집힌|드라이브|드러난|드렸습니다|들썩|등교|등급|등장|디에스케이|디피씨(026890)|땅|때보다|똑똑하고|뜨는|라이트&amp;apos|러시|로또|마감평균|마니커에프앤지|마음|마이크로텍|막말|만들겠다|만들기가|만에\"이럴|말만|말아야|말에|맞춤화된|매도에|매매가|매매타이밍|매수만|매수하세요|매수해도|매월|매일매일이|매집|맥점자리를|맹공|머리|먹은|메가엠디(133750)|메디톡스(086900)|면세점|명성티엔에스|모나리자|모나리자(012690)|모더나|모릅니다|목표가를|몰려간|못합니다|무더기|무료종목상담|무료카톡방에서|문구를|문자대로|물류창고|뭔가|미국주식|미래나노텍(095500)|미래에셋대우|미스터블루|민낯|바꿔줄|바로입장|바이오의약품|반년|반응|반토막|받아보세요|발동동|발목|발행|방산주|방식|방탄소년단|배현진|백종원|벌게|벌써|벌어진|법사위|법안|베테랑|변호사|보성군|보수통합|봉쇄|부광약품(003000)|부로|부자|부작용|부채비율|분석합니다|분은|분쟁|불매운동(수혜)|불확실성|붙은|비결|비밀번호|빌딩|빛난|사기|사라진|사세요|사우디|사이|사전투표|삼국블레이드|삼륭물산|삼성전자SK하이닉스|상가|상상도|상용화|상위1|상폐|생각하세요|선보여|선착순으로|선택한|섣부른|성수기|성추행|세계가|세계서|세계최초로|세화아이엠씨|셀리드|셀트리온제약(068760)|소장|속출|손석희|손실이|송도|쇼크|수원|수익률을|수입승인|순|숨겨진|스타벅스|스페인|시그널|시디즈|시민당과|시스템반도체|시황변동|신개념|신고|신년|신뢰|신신제약(002800)|신용|신용불량자|실업급여|실전매매|싶다면|싶은데|싹|쏘렌토|쏟아진다|쓰나미|아내|아래와|아무것도|아이디어를|아이즈비전(031310)|아이큐어(175250)|아프리카|아프리카TV|악의적|안돼|안태일|알려드립니다|알짜|압승|액션스퀘어|어워드|어쩌다가|얼마|얼마길래|엄청나게|업체에서|에쓰오일|에이비엘바이오|에코마이스터|엑셈|엔에스|연락주신|열차|영향은|영흥철강|예고|오공(045060)|오늘(17일)|오늘까지만|오르는|오지|올라타기|올리는|올림픽|올지|와이오엠|와이제이엠게임즈|와이파이|완벽|왔을|용산|우려에도|우리손에프앤지|우린|움직임|움직임을|원내대표|원이|월요일상한가|위험한|위협|유망주로|유망주를|유시민|유증|유튜버|육계|윤미향|은밀한|은행장|응원|이것|이력|이례적으로|이마트|이마트24|이명수|이슈몰이를|이지바이오(29.9)|이쯤|이틀째|인생역전|인테리어|일시|일야|입수|입증|자발적|자신감|자율주행차|자제|작년에|작성|잘나가던|잘못|잡는|잡아|잡아보자|재개발|재료가|재료와|재산|재택|재평가|재확산|재확산에|저변|적|적중.*20.05.20|적중.*20.05.27|전년比|전세계가|전세계적으로|전주|전지|정부정책|정상들|정식으로|정신|정은경|제21대|제기|제네시스|제넥신|제발|제일|제품이|제한적|조금씩|조기마감합니다|종목들의|주목하는|주민들|주식시장의|주식신문|주식으로|주식은|주식형|주장|주주총회|준비하는|중국을|중기부|증권가|증권전문방송|증명합니다|지경|지도|지연|진단시약|진화|징계|차|차단|창해에탄올|찾았습니다|찾은|청소년|체크카드|체크해|초토화|총력|총장|추미애|추월|추정|추천받기|축하드립니다|출마|출석|충격파|충분합니다|치료에|침체|카카오|카타르|캠시스|커버리지|케어|케어랩스|코미팜|코오롱인더|쿠팡|클럽발|클릭하면|키위미디어그룹|키트|타격|타이밍을|탄|통화|투자의|투자자라면|투잡|특단의|파견|파수|팔|패널|편안하게|편지|평생무료|포기|포스코인터내셔널|포착해서|폭발적으로|폭발적인|폭발합니다|폭주|폭파|폭파에|풀자|프로모션|플렉서블|피씨엘|필링크|하기만|하나도|하나은행|하락...다우|하루만에|하실|한국당|한국알콜|한국에서|한국철도|한국판|한국화장품|한류|한방|한창제지(009460)|한탄|한화그룹|한화솔루션|한화투자증권|항상|해외주식|해태아이스크림|행진|혁통위|현대바이오|혈액|혈장치료|혈장치료제|혐의|(화)상승|화웨이|확|확인하세요.(입장)|확인하시고|확인하시기|환율|환호|(회원)마지막이다|효과에|후기|후속주는|휴마시스|희비|힘들다|女배우|화재|전일대비|격리|손|꾸준히|원유|떨어진|학생|증시|2020년|계속|대출|해|성과를|3개월|빅데이터|행사|가치|사람은|인도|태양광|소비자|이전|애플|확인하고|회의|2명|이제|내린|확진|없다|것이라는|않다|직전|수사|얼마나|확보|전에|제주|24시간|나는|개선|빠른|높아|새롭게|자가격리|우리가|라임|이내|홍보|기대감이|스타트업|영향|그대로|협력|유럽|넘게|하향|처리|고급|임대료|집|인하|제|달|다음|대신|맞춤형|금융위기|내달|못했다|중동|선정|대책|청약|활용할|2차|하루|아직|배터리|역대|경찰|맞은|빨리|이렇게|증가하고|네트워크|1/20로|1000명|100만원|100원|10대|14명|17억하던|19명|20.04.07|200만원|20억원|26만|2797억|27억|300%가까이|4월로|5G저변확대에|5월말|6년|7개|7번째|GC녹십자엠에스|ITBC스탁|LG유플러스와|SK네트웍스|USMCA|韓관광객|가도|감고|강력추천|경로를|고흥군|공모전|공시|괴질|긍정|기업인|긴급이슈|꺾은|나도|나오면|낭패|내는|내연녀|노려볼|누르고|다운로드|당부|대단히|덕에|동거|되나|됨에|들고|마그네슘|마무리|마치고|막바지|맛보게|매도세에|매매로|면세점과|모친|무료신청CLICK|바이오인식(생체인식)|반영되면서|반포아파트|반환|발굴해|방어|백|병용임상|부합|빚내서|뺨친|사드|사회공헌|생산원가를|성폭행|손보사|수백|수요도|수조원대|수주에|쉿|시연|신속대응팀|쌍끌이|아빠|아이디어|알았더니|에이치엘사이언스|엔시트론(101400)|여야|오늘이|오열한|웰크론|유재형|유전자|의안을|이르면|인식|일본과|입수한|자리에|자사만의|재선|저하|전부|전세가|전체적인|조원태|주겠다|주도주로|준비하세요|중국산|중국인|지구|찾지|처럼|청주|초저가|추가적으로|출렁이는|치료제/분석|치료제의|치솟았지만|큰손들이|택배|통신시장의|통제|판타지오|피앤이솔루션|하셨나요|한신평|향하는|화장품은|활동보장|효율화|휴점일|흡연자|희귀병|희소식|女원룸|자금을|지분|밖에|베트남|활용|4개|영업|조기|LCD|계열사|모델로|잇따라|절반|나서고|발굴|방지|출발|4차|계획|한달|마지막|준비|만든|시각|혁신|예상되는|인수|조성|이래|찾아|씨가|자주|유가|예방|스마트폰|1년|나올|현금|직후|신임|재택근무|지하철|유지|홍남기|사건|사장|우려|장관|검사|지급|부산|민주당|일본|경기도|금리|북한|당장|입국|3차|별도|투자자들은|역사|한국과|광고|기본|이탈리아|5개|디스플레이|보유|가지고|긴급|위반|일제히|조치|도입|정식|한국을|내수|대|마이너스|개|지정|장|대한민국|내년|일이|전망이|정치|편의점|회사채|가수|공적|위기에|한미|덕분에|목표|긴급재난지원금|사태|6월|추진|상반기|하반기|직원|청년|곳이|신제품|못해|어려울|지수|측|종목이|나선|3월|없이|마련|힘든|이어갈|훨씬|가입|경영권|대한항공|준|입원|2개|사외이사|내고|완화|반드시|확대|경제의|등록|백화점|성장할|인사|허가|금융시장|세금|의견|눈길을|증시가|합의|보는|중소기업|주식을|매각|정확한|제작|법인|올라|초과|나|말이|연일|우한|대전|솔루션|시행|양성|좀|카메라|본격|제공하고|새|매장|되면|수익성|치료|기회가|모델|하나|하나의|곳에|기준금리|늘어|시험|전세|대표이사|호주|공장|트럼프|보고|29일|어떤|없어|현|안에|10개|가족|되지|부회장|분양가|유입|지수가|진단|필리핀|가능하며|공모|반대|외교부|자회사|제출|사람|감산|실시간|심각한|할인|사상|법무부|변경|연장|장비|물량|유명|나선다|프로그램|검찰|대구|작년|단독|방안|인증|주말|주총|향해\n"
     ]
    }
   ],
   "source": [
    "pattern = '|'.join(l_1d)\n",
    "print(pattern)"
   ]
  },
  {
   "cell_type": "code",
   "execution_count": null,
   "metadata": {
    "colab": {
     "base_uri": "https://localhost:8080/"
    },
    "id": "E-9ipDlcBvot",
    "outputId": "ecb08e14-1ac1-4c04-ed3d-1f9423c481cd"
   },
   "outputs": [
    {
     "data": {
      "text/plain": [
       "0        서철모 화성시  ‘묘수’.. 주정 결 월 정기권을 폐지하자 기 주량이 시범요금 전 ...\n",
       "1             [전일 주요 ] SK이노베이션ㆍㆍ투어 등 , 2184만 원 규모  공급계약 체결\n",
       "2        플로이드 동생의 눈물호소 “흑인 가 20러인가?” 테마 +거래량+핵심인맥  줄상한가...\n",
       "3                           부고 최종 1000% 이상 함께 할 분 모  여기 클릭\n",
       "4        신승훈, 데뷔 30주년  전국 투어 ‘미소속에 비친 그’  4월 11일 서울서 시작...\n",
       "                               ...                        \n",
       "94991    [신털기] '팝콘 팡팡' 벨로스터 N…런치컨트롤 '슝' 다만 서킷 주행에 필수인 동...\n",
       "94992    '코로19'로 도는 산업용 전기…여유전력 비율   최고 전체 발전비 용량(12만58...\n",
       "94993    잠실 스포츠·MICE 발 화…민자 격성 조사 통과 2022년  착공주변지역 투기 단 도 \n",
       "94994    그린카, 브랜드  김민아 발탁 앞으로 배우 여진구와 방송인 김민아 두 브랜드 은 합...\n",
       "94995    '이엠텍' 10% 이상 상승, 단기·중기 이평선 정배열로 상승세 이 기사는 한신문과...\n",
       "Name: Review, Length: 94996, dtype: object"
      ]
     },
     "execution_count": 24,
     "metadata": {
      "tags": []
     },
     "output_type": "execute_result"
    }
   ],
   "source": [
    "train['Review'] = train['Review'].str.replace(pattern, '')\n",
    "train['Review']"
   ]
  },
  {
   "cell_type": "code",
   "execution_count": null,
   "metadata": {
    "id": "LFFokLO0sj_L"
   },
   "outputs": [],
   "source": [
    "def convert_data(data_df):\n",
    "    global tokenizer\n",
    "    \n",
    "    SEQ_LEN = 64 \n",
    "    \n",
    "    tokens, masks, segments, targets = [], [], [], []\n",
    "    \n",
    "    for i in tqdm(range(len(data_df))):\n",
    "        token = tokenizer.encode(data_df[DATA_COLUMN][i], max_length=SEQ_LEN, pad_to_max_length=True)\n",
    "       \n",
    "        num_zeros = token.count(0)\n",
    "        mask = [1]*(SEQ_LEN-num_zeros) + [0]*num_zeros\n",
    "        \n",
    "        segment = [0]*SEQ_LEN\n",
    "\n",
    "        tokens.append(token)\n",
    "        masks.append(mask)\n",
    "        segments.append(segment)\n",
    "        \n",
    "        targets.append(data_df[LABEL_COLUMN][i])\n",
    "\n",
    "    tokens = np.array(tokens)\n",
    "    masks = np.array(masks)\n",
    "    segments = np.array(segments)\n",
    "    targets = np.array(targets)\n",
    "\n",
    "    return [tokens, masks, segments], targets\n",
    "\n",
    "def load_data(pandas_dataframe):\n",
    "    data_df = pandas_dataframe\n",
    "    data_df[DATA_COLUMN] = data_df[DATA_COLUMN].astype(str)\n",
    "    data_df[LABEL_COLUMN] = data_df[LABEL_COLUMN].astype(int)\n",
    "    data_x, data_y = convert_data(data_df)\n",
    "    return data_x, data_y\n",
    "\n",
    "SEQ_LEN = 64\n",
    "BATCH_SIZE = 20\n",
    "DATA_COLUMN = \"Review\"\n",
    "LABEL_COLUMN = \"information\""
   ]
  },
  {
   "cell_type": "code",
   "execution_count": null,
   "metadata": {
    "colab": {
     "base_uri": "https://localhost:8080/"
    },
    "id": "o0HIW9isZFvV",
    "outputId": "081a89b4-309e-40f9-f2cf-08852b2d948c"
   },
   "outputs": [
    {
     "name": "stderr",
     "output_type": "stream",
     "text": [
      "  0%|          | 0/94996 [00:00<?, ?it/s]/usr/local/lib/python3.6/dist-packages/transformers/tokenization_utils_base.py:2142: FutureWarning: The `pad_to_max_length` argument is deprecated and will be removed in a future version, use `padding=True` or `padding='longest'` to pad to the longest sequence in the batch, or use `padding='max_length'` to pad to a max length. In this case, you can give a specific length with `max_length` (e.g. `max_length=45`) or leave max_length to None to pad to the maximal input size of the model (e.g. 512 for Bert).\n",
      "  FutureWarning,\n",
      "100%|██████████| 94996/94996 [00:24<00:00, 3902.45it/s]\n"
     ]
    }
   ],
   "source": [
    "train_x, train_y = load_data(train)"
   ]
  },
  {
   "cell_type": "code",
   "execution_count": null,
   "metadata": {
    "colab": {
     "base_uri": "https://localhost:8080/"
    },
    "id": "9ocb17LekZVn",
    "outputId": "b91c2389-03da-4872-dc05-319e66dba339"
   },
   "outputs": [
    {
     "name": "stderr",
     "output_type": "stream",
     "text": [
      "  0%|          | 0/23749 [00:00<?, ?it/s]/usr/local/lib/python3.6/dist-packages/transformers/tokenization_utils_base.py:2142: FutureWarning: The `pad_to_max_length` argument is deprecated and will be removed in a future version, use `padding=True` or `padding='longest'` to pad to the longest sequence in the batch, or use `padding='max_length'` to pad to a max length. In this case, you can give a specific length with `max_length` (e.g. `max_length=45`) or leave max_length to None to pad to the maximal input size of the model (e.g. 512 for Bert).\n",
      "  FutureWarning,\n",
      "100%|██████████| 23749/23749 [00:06<00:00, 3599.27it/s]\n"
     ]
    }
   ],
   "source": [
    "test_x, test_y = load_data(test)"
   ]
  },
  {
   "cell_type": "code",
   "execution_count": null,
   "metadata": {
    "id": "W85BlYfo2Wge"
   },
   "outputs": [],
   "source": [
    "def create_classification_bert():\n",
    "  model = TFBertModel.from_pretrained(\"monologg/kobert\", from_pt=True)\n",
    "  token_inputs = tf.keras.layers.Input((SEQ_LEN,), dtype=tf.int32, name='input_word_ids')\n",
    "  mask_inputs = tf.keras.layers.Input((SEQ_LEN,), dtype=tf.int32, name='input_masks')\n",
    "  segment_inputs = tf.keras.layers.Input((SEQ_LEN,), dtype=tf.int32, name='input_segment')\n",
    "  bert_outputs = model([token_inputs, mask_inputs, segment_inputs])\n",
    "\n",
    "  bert_outputs = bert_outputs[1]\n",
    "  classification_first = tf.keras.layers.Dense(1, activation='sigmoid', kernel_initializer=tf.keras.initializers.TruncatedNormal(stddev=0.02))(bert_outputs)\n",
    "  classification_model = tf.keras.Model([token_inputs, mask_inputs, segment_inputs], classification_first)\n",
    "  classification_model.compile(optimizer=tf.keras.optimizers.Adam(lr=1.0e-5), loss=tf.keras.losses.BinaryCrossentropy(), metrics = [tf.keras.metrics.Precision(name='precision'), tf.keras.metrics.FalsePositives(name='FalsePositive'), 'accuracy'])\n",
    "  return classification_model"
   ]
  },
  {
   "cell_type": "code",
   "execution_count": null,
   "metadata": {
    "colab": {
     "base_uri": "https://localhost:8080/"
    },
    "id": "CXKy-Jsg3eKA",
    "outputId": "87c476b5-f0b4-4bbc-964a-bf8c35696733"
   },
   "outputs": [
    {
     "name": "stderr",
     "output_type": "stream",
     "text": [
      "All PyTorch model weights were used when initializing TFBertModel.\n",
      "\n",
      "All the weights of TFBertModel were initialized from the PyTorch model.\n",
      "If your task is similar to the task the model of the checkpoint was trained on, you can already use TFBertModel for predictions without further training.\n"
     ]
    }
   ],
   "source": [
    "classification_model = create_classification_bert()"
   ]
  },
  {
   "cell_type": "code",
   "execution_count": null,
   "metadata": {
    "colab": {
     "base_uri": "https://localhost:8080/"
    },
    "id": "l4Si9oO33i70",
    "outputId": "9f779647-240d-44fc-a4e4-38f090d77549"
   },
   "outputs": [
    {
     "name": "stdout",
     "output_type": "stream",
     "text": [
      "Model: \"functional_3\"\n",
      "__________________________________________________________________________________________________\n",
      "Layer (type)                    Output Shape         Param #     Connected to                     \n",
      "==================================================================================================\n",
      "input_word_ids (InputLayer)     [(None, 64)]         0                                            \n",
      "__________________________________________________________________________________________________\n",
      "input_masks (InputLayer)        [(None, 64)]         0                                            \n",
      "__________________________________________________________________________________________________\n",
      "input_segment (InputLayer)      [(None, 64)]         0                                            \n",
      "__________________________________________________________________________________________________\n",
      "tf_bert_model_1 (TFBertModel)   TFBaseModelOutputWit 92186880    input_word_ids[0][0]             \n",
      "                                                                 input_masks[0][0]                \n",
      "                                                                 input_segment[0][0]              \n",
      "__________________________________________________________________________________________________\n",
      "dense_1 (Dense)                 (None, 1)            769         tf_bert_model_1[0][1]            \n",
      "==================================================================================================\n",
      "Total params: 92,187,649\n",
      "Trainable params: 92,187,649\n",
      "Non-trainable params: 0\n",
      "__________________________________________________________________________________________________\n"
     ]
    }
   ],
   "source": [
    "classification_model.summary()"
   ]
  },
  {
   "cell_type": "code",
   "execution_count": null,
   "metadata": {
    "id": "hiH25UmlK-R2"
   },
   "outputs": [],
   "source": [
    "import tensorflow_addons as tfa\n",
    "opt = tfa.optimizers.RectifiedAdam(lr=1.0e-5, weight_decay=0.0025)"
   ]
  },
  {
   "cell_type": "code",
   "execution_count": null,
   "metadata": {
    "colab": {
     "base_uri": "https://localhost:8080/"
    },
    "id": "70SZBTO0-Fq0",
    "outputId": "f50b86ca-9d99-4342-cd56-4e61430e7359"
   },
   "outputs": [
    {
     "name": "stdout",
     "output_type": "stream",
     "text": [
      "Epoch 1/4\n",
      "4750/4750 [==============================] - 889s 187ms/step - loss: 0.0694 - precision: 0.9694 - FalsePositive: 1146.0000 - accuracy: 0.9743 - val_loss: 0.0538 - val_precision: 0.9949 - val_FalsePositive: 46.0000 - val_accuracy: 0.9794\n",
      "Epoch 2/4\n",
      "4750/4750 [==============================] - 883s 186ms/step - loss: 0.0275 - precision: 0.9877 - FalsePositive: 460.0000 - accuracy: 0.9901 - val_loss: 0.0517 - val_precision: 0.9798 - val_FalsePositive: 192.0000 - val_accuracy: 0.9880\n",
      "Epoch 3/4\n",
      "4750/4750 [==============================] - 879s 185ms/step - loss: 0.0157 - precision: 0.9941 - FalsePositive: 223.0000 - accuracy: 0.9948 - val_loss: 0.0377 - val_precision: 0.9916 - val_FalsePositive: 78.0000 - val_accuracy: 0.9904\n",
      "Epoch 4/4\n",
      "4750/4750 [==============================] - 876s 184ms/step - loss: 0.0100 - precision: 0.9960 - FalsePositive: 150.0000 - accuracy: 0.9967 - val_loss: 0.0312 - val_precision: 0.9880 - val_FalsePositive: 113.0000 - val_accuracy: 0.9915\n"
     ]
    }
   ],
   "source": [
    "hist = classification_model.fit(train_x, train_y, epochs=4, shuffle=True, batch_size=20, validation_data=(test_x, test_y))"
   ]
  },
  {
   "cell_type": "code",
   "execution_count": null,
   "metadata": {
    "colab": {
     "base_uri": "https://localhost:8080/"
    },
    "id": "0kZQ7aMFuUXw",
    "outputId": "d6448f3d-684c-4aea-d0de-7d08d058f4ff"
   },
   "outputs": [
    {
     "name": "stdout",
     "output_type": "stream",
     "text": [
      "[0.06942237913608551, 0.027543945237994194, 0.01568845845758915, 0.010029206052422523]\n",
      "[0.9743462800979614, 0.9900522232055664, 0.994799792766571, 0.9967367053031921]\n",
      "[0.9693590998649597, 0.9877402186393738, 0.9940530061721802, 0.9960038065910339]\n"
     ]
    }
   ],
   "source": [
    "print(hist.history['loss'])\n",
    "print(hist.history['accuracy']) \n",
    "print(hist.history['precision'])"
   ]
  },
  {
   "cell_type": "code",
   "execution_count": null,
   "metadata": {
    "colab": {
     "base_uri": "https://localhost:8080/",
     "height": 541
    },
    "id": "1pXoAZUm7drr",
    "outputId": "e58e16a0-a76b-421f-9e38-0d662326bfe3"
   },
   "outputs": [
    {
     "data": {
      "image/png": "[encoded data removed]",
      "text/plain": [
       "<Figure size 432x288 with 2 Axes>"
      ]
     },
     "metadata": {
      "needs_background": "light",
      "tags": []
     },
     "output_type": "display_data"
    },
    {
     "data": {
      "image/png": "[encoded data removed]",
      "text/plain": [
       "<Figure size 432x288 with 1 Axes>"
      ]
     },
     "metadata": {
      "needs_background": "light",
      "tags": []
     },
     "output_type": "display_data"
    }
   ],
   "source": [
    "%matplotlib inline\n",
    "import matplotlib.pyplot as plt\n",
    "\n",
    "fig, loss_ax = plt.subplots()\n",
    "\n",
    "acc_ax = loss_ax.twinx()\n",
    "\n",
    "loss_ax.plot(hist.history['loss'], 'y', label='train loss')\n",
    "loss_ax.plot(hist.history['val_loss'], 'r', label='val loss')\n",
    "\n",
    "acc_ax.plot(hist.history['accuracy'], 'b', label='train accuracy')\n",
    "acc_ax.plot(hist.history['val_accuracy'], 'g', label='val accuracy')\n",
    "\n",
    "loss_ax.set_xlabel('epoch')\n",
    "loss_ax.set_ylabel('loss')\n",
    "acc_ax.set_ylabel('accuray')\n",
    "\n",
    "loss_ax.legend(loc='upper left')\n",
    "acc_ax.legend(loc='lower left')\n",
    "\n",
    "####################################\n",
    "fig, prec_ax = plt.subplots()\n",
    "\n",
    "prec_ax.plot(hist.history['precision'], 'y', label='train precision')\n",
    "prec_ax.plot(hist.history['val_precision'], 'r', label='val precision')\n",
    "\n",
    "prec_ax.set_xlabel('epoch')\n",
    "prec_ax.set_ylabel('precision')\n",
    "\n",
    "prec_ax.legend(loc='upper left')\n",
    "\n",
    "plt.show()"
   ]
  },
  {
   "cell_type": "code",
   "execution_count": null,
   "metadata": {
    "id": "tBOdOlBT8K6l"
   },
   "outputs": [],
   "source": [
    "path = \"/content/gdrive/My Drive/Colab Notebooks/News_detection\""
   ]
  },
  {
   "cell_type": "code",
   "execution_count": null,
   "metadata": {
    "colab": {
     "base_uri": "https://localhost:8080/",
     "height": 35
    },
    "id": "AeA4cmVW3ypX",
    "outputId": "1aa602f4-14d6-4aec-f86d-638f876bedff"
   },
   "outputs": [
    {
     "data": {
      "application/vnd.google.colaboratory.intrinsic+json": {
       "type": "string"
      },
      "text/plain": [
       "'/content/gdrive/My Drive/Colab Notebooks/News_detection/train_test'"
      ]
     },
     "execution_count": 11,
     "metadata": {
      "tags": []
     },
     "output_type": "execute_result"
    }
   ],
   "source": [
    "os.getcwd()"
   ]
  },
  {
   "cell_type": "code",
   "execution_count": null,
   "metadata": {
    "id": "syqCPgVa_sKZ"
   },
   "outputs": [],
   "source": [
    "classification_model.save_weights(path+\"/News_detection(kobert+extrapropre).h5\")"
   ]
  },
  {
   "cell_type": "code",
   "execution_count": null,
   "metadata": {
    "id": "Zjv6RMR1jYIe"
   },
   "outputs": [],
   "source": [
    "def sentence_convert_data(data):\n",
    "    global tokenizer\n",
    "    tokens, masks, segments = [], [], []\n",
    "    token = tokenizer.encode(data, max_length=SEQ_LEN, truncation=True, padding='max_length')\n",
    "    \n",
    "    num_zeros = token.count(0) \n",
    "    mask = [1]*(SEQ_LEN-num_zeros) + [0]*num_zeros \n",
    "    segment = [0]*SEQ_LEN\n",
    "\n",
    "    tokens.append(token)\n",
    "    segments.append(segment)\n",
    "    masks.append(mask)\n",
    "\n",
    "    tokens = np.array(tokens)\n",
    "    masks = np.array(masks)\n",
    "    segments = np.array(segments)\n",
    "    return [tokens, masks, segments]\n",
    "\n",
    "def information_evaluation_predict(sentence):\n",
    "    data_x = sentence_convert_data(sentence)\n",
    "    predict = classification_model.predict(data_x)\n",
    "    predict_value = np.ravel(predict)\n",
    "    predict_answer = np.round(predict_value,0).item()\n",
    "    \n",
    "    if predict_answer == 0:\n",
    "      print(\"(정보가 있을 확률 : %.2f) 정보가 있는 문장입니다.\" % (1-predict_value))\n",
    "    elif predict_answer == 1:\n",
    "      print(\"(정보가 없을 확률 : %.2f) 정보가 없는 문장입니다.\" % predict_value)"
   ]
  }
 ],
 "metadata": {
  "accelerator": "GPU",
  "colab": {
   "collapsed_sections": [],
   "machine_shape": "hm",
   "name": "[전처리 추가] 뉴스 실습3(Kobert+제목+내용)",
   "provenance": [],
   "toc_visible": true
  },
  "kernelspec": {
   "display_name": "Python 3",
   "language": "python",
   "name": "python3"
  },
  "language_info": {
   "codemirror_mode": {
    "name": "ipython",
    "version": 3
   },
   "file_extension": ".py",
   "mimetype": "text/x-python",
   "name": "python",
   "nbconvert_exporter": "python",
   "pygments_lexer": "ipython3",
   "version": "3.9.1"
  }
 },
 "nbformat": 4,
 "nbformat_minor": 1
}
