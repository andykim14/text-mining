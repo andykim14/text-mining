{
 "cells": [
  {
   "cell_type": "code",
   "execution_count": null,
   "metadata": {
    "colab": {
     "base_uri": "https://localhost:8080/"
    },
    "id": "8AB7YtQ3rZzF",
    "outputId": "b1b829a7-071e-4276-aa38-bff7db5d6575"
   },
   "outputs": [
    {
     "name": "stdout",
     "output_type": "stream",
     "text": [
      "Collecting transformers\n",
      "\u001b[?25l  Downloading https://files.pythonhosted.org/packages/ed/db/98c3ea1a78190dac41c0127a063abf92bd01b4b0b6970a6db1c2f5b66fa0/transformers-4.0.1-py3-none-any.whl (1.4MB)\n",
      "\u001b[K     |████████████████████████████████| 1.4MB 8.6MB/s \n",
      "\u001b[?25hRequirement already satisfied: numpy in /usr/local/lib/python3.6/dist-packages (from transformers) (1.18.5)\n",
      "Requirement already satisfied: regex!=2019.12.17 in /usr/local/lib/python3.6/dist-packages (from transformers) (2019.12.20)\n",
      "Collecting tokenizers==0.9.4\n",
      "\u001b[?25l  Downloading https://files.pythonhosted.org/packages/0f/1c/e789a8b12e28be5bc1ce2156cf87cb522b379be9cadc7ad8091a4cc107c4/tokenizers-0.9.4-cp36-cp36m-manylinux2010_x86_64.whl (2.9MB)\n",
      "\u001b[K     |████████████████████████████████| 2.9MB 29.0MB/s \n",
      "\u001b[?25hRequirement already satisfied: dataclasses; python_version < \"3.7\" in /usr/local/lib/python3.6/dist-packages (from transformers) (0.8)\n",
      "Collecting sacremoses\n",
      "\u001b[?25l  Downloading https://files.pythonhosted.org/packages/7d/34/09d19aff26edcc8eb2a01bed8e98f13a1537005d31e95233fd48216eed10/sacremoses-0.0.43.tar.gz (883kB)\n",
      "\u001b[K     |████████████████████████████████| 890kB 53.0MB/s \n",
      "\u001b[?25hRequirement already satisfied: tqdm>=4.27 in /usr/local/lib/python3.6/dist-packages (from transformers) (4.41.1)\n",
      "Requirement already satisfied: packaging in /usr/local/lib/python3.6/dist-packages (from transformers) (20.7)\n",
      "Requirement already satisfied: filelock in /usr/local/lib/python3.6/dist-packages (from transformers) (3.0.12)\n",
      "Requirement already satisfied: requests in /usr/local/lib/python3.6/dist-packages (from transformers) (2.23.0)\n",
      "Requirement already satisfied: six in /usr/local/lib/python3.6/dist-packages (from sacremoses->transformers) (1.15.0)\n",
      "Requirement already satisfied: click in /usr/local/lib/python3.6/dist-packages (from sacremoses->transformers) (7.1.2)\n",
      "Requirement already satisfied: joblib in /usr/local/lib/python3.6/dist-packages (from sacremoses->transformers) (0.17.0)\n",
      "Requirement already satisfied: pyparsing>=2.0.2 in /usr/local/lib/python3.6/dist-packages (from packaging->transformers) (2.4.7)\n",
      "Requirement already satisfied: urllib3!=1.25.0,!=1.25.1,<1.26,>=1.21.1 in /usr/local/lib/python3.6/dist-packages (from requests->transformers) (1.24.3)\n",
      "Requirement already satisfied: chardet<4,>=3.0.2 in /usr/local/lib/python3.6/dist-packages (from requests->transformers) (3.0.4)\n",
      "Requirement already satisfied: idna<3,>=2.5 in /usr/local/lib/python3.6/dist-packages (from requests->transformers) (2.10)\n",
      "Requirement already satisfied: certifi>=2017.4.17 in /usr/local/lib/python3.6/dist-packages (from requests->transformers) (2020.12.5)\n",
      "Building wheels for collected packages: sacremoses\n",
      "  Building wheel for sacremoses (setup.py) ... \u001b[?25l\u001b[?25hdone\n",
      "  Created wheel for sacremoses: filename=sacremoses-0.0.43-cp36-none-any.whl size=893261 sha256=c91cd39ec917dfa6f9a143e8fb42e66ffb6e8c11cc959c6330342a3db021c666\n",
      "  Stored in directory: /root/.cache/pip/wheels/29/3c/fd/7ce5c3f0666dab31a50123635e6fb5e19ceb42ce38d4e58f45\n",
      "Successfully built sacremoses\n",
      "Installing collected packages: tokenizers, sacremoses, transformers\n",
      "Successfully installed sacremoses-0.0.43 tokenizers-0.9.4 transformers-4.0.1\n"
     ]
    }
   ],
   "source": [
    "!pip install transformers"
   ]
  },
  {
   "cell_type": "code",
   "execution_count": null,
   "metadata": {
    "id": "jRXvtgWrrdk5"
   },
   "outputs": [],
   "source": [
    "import tensorflow as tf\n",
    "import numpy as np\n",
    "import pandas as pd\n",
    "from transformers import *\n",
    "import json\n",
    "from tqdm import tqdm\n",
    "import os"
   ]
  },
  {
   "cell_type": "code",
   "execution_count": null,
   "metadata": {
    "colab": {
     "base_uri": "https://localhost:8080/"
    },
    "id": "1JSqucXTB-jX",
    "outputId": "ff111ae7-34c8-41a4-c42e-9e47ac2e57b1"
   },
   "outputs": [
    {
     "name": "stdout",
     "output_type": "stream",
     "text": [
      "Mounted at /content/gdrive/\n"
     ]
    }
   ],
   "source": [
    "import os\n",
    "from google.colab import drive\n",
    "drive.mount('/content/gdrive/')"
   ]
  },
  {
   "cell_type": "code",
   "execution_count": null,
   "metadata": {
    "colab": {
     "base_uri": "https://localhost:8080/"
    },
    "id": "8YXI6Q-hsQpn",
    "outputId": "4ec7d145-0189-44c6-f9b3-d45d16f05e15"
   },
   "outputs": [
    {
     "data": {
      "text/plain": [
       "['news_semitrain.csv',\n",
       " 'news_semitest.csv',\n",
       " 'news_semitest1.csv',\n",
       " 'news_semitrain1.csv',\n",
       " 'news_train.csv',\n",
       " 'test_set.csv',\n",
       " 'train_set.csv',\n",
       " 'test set.xlsx']"
      ]
     },
     "execution_count": 4,
     "metadata": {
      "tags": []
     },
     "output_type": "execute_result"
    }
   ],
   "source": [
    "os.chdir(\"/content/gdrive/MyDrive/Colab Notebooks/News_detection/train_test\")\n",
    "os.getcwd()\n",
    "os.listdir()"
   ]
  },
  {
   "cell_type": "code",
   "execution_count": null,
   "metadata": {
    "id": "3XeWU_2OsRJ3"
   },
   "outputs": [],
   "source": [
    "train = pd.read_csv(\"train_set.csv\")\n",
    "test = pd.read_csv(\"test_set.csv\")"
   ]
  },
  {
   "cell_type": "code",
   "execution_count": null,
   "metadata": {
    "colab": {
     "base_uri": "https://localhost:8080/",
     "height": 67,
     "referenced_widgets": [
      "f889f28da3ba40eb9a662ae67e0b55dd",
      "811b628915d94c9780301fde32f4a1bd",
      "f3b328371bae48c9825bdf97d1d6f407",
      "30cde1b128d44eaab0cf9845c09dff46",
      "50ae3e4ed9c24483b470819db1338c54",
      "7ee5d4ed7e814adfb8bb72b13b341c1d",
      "7496b55f8c7244d59337ab79d5b9b754",
      "c442640f431748c9b772cf4deaf2cdde"
     ]
    },
    "id": "g4Xgl9RtsGul",
    "outputId": "ff58471a-4bcf-498d-da9e-7216e0e910ce"
   },
   "outputs": [
    {
     "data": {
      "application/vnd.jupyter.widget-view+json": {
       "model_id": "f889f28da3ba40eb9a662ae67e0b55dd",
       "version_major": 2,
       "version_minor": 0
      },
      "text/plain": [
       "HBox(children=(FloatProgress(value=0.0, description='Downloading', max=995526.0, style=ProgressStyle(descripti…"
      ]
     },
     "metadata": {
      "tags": []
     },
     "output_type": "display_data"
    },
    {
     "name": "stdout",
     "output_type": "stream",
     "text": [
      "\n"
     ]
    }
   ],
   "source": [
    "tokenizer = BertTokenizer.from_pretrained('bert-base-multilingual-cased')"
   ]
  },
  {
   "cell_type": "code",
   "execution_count": null,
   "metadata": {
    "id": "fLvKKKOsMQaS"
   },
   "outputs": [],
   "source": [
    "train['Review'] = (train['title'].map(str) +' '+ train['content']).apply(lambda row: row.strip())\n",
    "test['Review'] = (test['title'].map(str) +' '+ test['content']).apply(lambda row: row.strip())"
   ]
  },
  {
   "cell_type": "code",
   "execution_count": null,
   "metadata": {
    "colab": {
     "base_uri": "https://localhost:8080/",
     "height": 1000
    },
    "id": "Tq0SMaHSMeDA",
    "outputId": "f17e8f52-9a47-4345-8994-1b2659615cf7"
   },
   "outputs": [
    {
     "data": {
      "text/html": [
       "<div>\n",
       "<style scoped>\n",
       "    .dataframe tbody tr th:only-of-type {\n",
       "        vertical-align: middle;\n",
       "    }\n",
       "\n",
       "    .dataframe tbody tr th {\n",
       "        vertical-align: top;\n",
       "    }\n",
       "\n",
       "    .dataframe thead th {\n",
       "        text-align: right;\n",
       "    }\n",
       "</style>\n",
       "<table border=\"1\" class=\"dataframe\">\n",
       "  <thead>\n",
       "    <tr style=\"text-align: right;\">\n",
       "      <th></th>\n",
       "      <th>n_id</th>\n",
       "      <th>date</th>\n",
       "      <th>title</th>\n",
       "      <th>content</th>\n",
       "      <th>ord</th>\n",
       "      <th>information</th>\n",
       "      <th>Review</th>\n",
       "    </tr>\n",
       "  </thead>\n",
       "  <tbody>\n",
       "    <tr>\n",
       "      <th>50</th>\n",
       "      <td>NEWS02810</td>\n",
       "      <td>20200625</td>\n",
       "      <td>공무원·공기업 인건비 160조 육박…공공부문 정규직화의 그늘</td>\n",
       "      <td>\"100만원\"만 있어도 지금 당장 \"이것\"부터 사라.. .</td>\n",
       "      <td>20</td>\n",
       "      <td>1</td>\n",
       "      <td>공무원·공기업 인건비 160조 육박…공공부문 정규직화의 그늘 \"100만원\"만 있어도...</td>\n",
       "    </tr>\n",
       "    <tr>\n",
       "      <th>51</th>\n",
       "      <td>NEWS02314</td>\n",
       "      <td>20200407</td>\n",
       "      <td>쿠쿠홀딩스(192400)  소폭 상승세 +4.91%, 나흘째 상승</td>\n",
       "      <td>지주사 테마 개요 및 관련종목 리스트 바로보기</td>\n",
       "      <td>9</td>\n",
       "      <td>1</td>\n",
       "      <td>쿠쿠홀딩스(192400)  소폭 상승세 +4.91%, 나흘째 상승 지주사 테마 개요...</td>\n",
       "    </tr>\n",
       "    <tr>\n",
       "      <th>52</th>\n",
       "      <td>NEWS08055</td>\n",
       "      <td>20200520</td>\n",
       "      <td>[이학영 칼럼] '윤미향 의혹'보다 걱정스러운 '집단사고'</td>\n",
       "      <td>회계투명성 의혹 제기를 놓고 도지사와 장관을 지낸 중진 의원이 친일반(反)인권반(反...</td>\n",
       "      <td>8</td>\n",
       "      <td>0</td>\n",
       "      <td>[이학영 칼럼] '윤미향 의혹'보다 걱정스러운 '집단사고' 회계투명성 의혹 제기를 ...</td>\n",
       "    </tr>\n",
       "    <tr>\n",
       "      <th>53</th>\n",
       "      <td>NEWS02780</td>\n",
       "      <td>20200311</td>\n",
       "      <td>[김영상의 오지랖] “정치풍자, 섹드립 훌훌 다 벗고…” 한때 팬으로서의 자니윤 추모</td>\n",
       "      <td>코미디언 이홍렬은 고인에 대해 스탠드업 코미디로 한국의 위상을 떨치신 분이라고 회고...</td>\n",
       "      <td>47</td>\n",
       "      <td>0</td>\n",
       "      <td>[김영상의 오지랖] “정치풍자, 섹드립 훌훌 다 벗고…” 한때 팬으로서의 자니윤 추...</td>\n",
       "    </tr>\n",
       "    <tr>\n",
       "      <th>54</th>\n",
       "      <td>NEWS06537</td>\n",
       "      <td>20200317</td>\n",
       "      <td>3∼6월 자동차 구매 시 개소세 70% 인하…신용카드 소득공제 2배로</td>\n",
       "      <td>아울러 감염병 특별재난지역 소재 중소기업들의 경우 올해 한시적으로 소득세와 법인세를...</td>\n",
       "      <td>8</td>\n",
       "      <td>0</td>\n",
       "      <td>3∼6월 자동차 구매 시 개소세 70% 인하…신용카드 소득공제 2배로 아울러 감염병...</td>\n",
       "    </tr>\n",
       "    <tr>\n",
       "      <th>55</th>\n",
       "      <td>NEWS01822</td>\n",
       "      <td>20200109</td>\n",
       "      <td>밖은 -5도, 고수동굴 안은 +15도, 동굴여행 어때요?</td>\n",
       "      <td>충북의 동굴들은 단양에 집중돼 있다</td>\n",
       "      <td>75</td>\n",
       "      <td>0</td>\n",
       "      <td>밖은 -5도, 고수동굴 안은 +15도, 동굴여행 어때요? 충북의 동굴들은 단양에 집...</td>\n",
       "    </tr>\n",
       "    <tr>\n",
       "      <th>56</th>\n",
       "      <td>NEWS01464</td>\n",
       "      <td>20200521</td>\n",
       "      <td>[분양 포커스]6호선·경의중앙선…‘신내역 시티프라디움’ 관심 집중</td>\n",
       "      <td>중랑캠핑숲, 봉화산 근린공원, 구릉산 등이 주변에 있다</td>\n",
       "      <td>104</td>\n",
       "      <td>0</td>\n",
       "      <td>[분양 포커스]6호선·경의중앙선…‘신내역 시티프라디움’ 관심 집중 중랑캠핑숲, 봉화...</td>\n",
       "    </tr>\n",
       "    <tr>\n",
       "      <th>57</th>\n",
       "      <td>NEWS04012</td>\n",
       "      <td>20200326</td>\n",
       "      <td>평택시, 해외입국자 코로나19 검사 71명 전원 ‘음성’</td>\n",
       "      <td>지난 25일에는 유럽 11명, 미국 5명, 기타 국가 27명 등 총 43명이 선별진...</td>\n",
       "      <td>49</td>\n",
       "      <td>0</td>\n",
       "      <td>평택시, 해외입국자 코로나19 검사 71명 전원 ‘음성’ 지난 25일에는 유럽 11...</td>\n",
       "    </tr>\n",
       "    <tr>\n",
       "      <th>58</th>\n",
       "      <td>NEWS05112</td>\n",
       "      <td>20200330</td>\n",
       "      <td>위기 도미노…‘제2 두산’ 불안 증폭</td>\n",
       "      <td>CJ CGV는 특히 FI(재무적투자자)들과 함께 8000억원에 인수한 터키 영화관 ...</td>\n",
       "      <td>52</td>\n",
       "      <td>0</td>\n",
       "      <td>위기 도미노…‘제2 두산’ 불안 증폭 CJ CGV는 특히 FI(재무적투자자)들과 함...</td>\n",
       "    </tr>\n",
       "    <tr>\n",
       "      <th>59</th>\n",
       "      <td>NEWS03363</td>\n",
       "      <td>20200419</td>\n",
       "      <td>국내 소득 1·2위 직업…기업 고위 임원·국회의원</td>\n",
       "      <td>10%수익을 40%로 만들어 준다고.. 영웅스탁론이라면 가능~.효과적인 레버리지를 ...</td>\n",
       "      <td>37</td>\n",
       "      <td>1</td>\n",
       "      <td>국내 소득 1·2위 직업…기업 고위 임원·국회의원 10%수익을 40%로 만들어 준다...</td>\n",
       "    </tr>\n",
       "    <tr>\n",
       "      <th>60</th>\n",
       "      <td>NEWS06988</td>\n",
       "      <td>20200103</td>\n",
       "      <td>이란 최고지도자, '美공습' 혁명수비대 사령관 사망에 \"혹독한 보복\" 경고</td>\n",
       "      <td>바로 내일 급등하는 종목 받아볼 지원자 모집</td>\n",
       "      <td>14</td>\n",
       "      <td>1</td>\n",
       "      <td>이란 최고지도자, '美공습' 혁명수비대 사령관 사망에 \"혹독한 보복\" 경고 바로 내...</td>\n",
       "    </tr>\n",
       "    <tr>\n",
       "      <th>61</th>\n",
       "      <td>NEWS00581</td>\n",
       "      <td>20200323</td>\n",
       "      <td>문체부 1차관 오영우·환경부 홍정기·중기부 강성천…文대통령, 차관급 인사 단행</td>\n",
       "      <td>신종코로나 바이러스 1000% 갈 新 대장주가 단돈 1천원대. 2020년 주식농사 ...</td>\n",
       "      <td>26</td>\n",
       "      <td>1</td>\n",
       "      <td>문체부 1차관 오영우·환경부 홍정기·중기부 강성천…文대통령, 차관급 인사 단행 신종...</td>\n",
       "    </tr>\n",
       "    <tr>\n",
       "      <th>62</th>\n",
       "      <td>NEWS05148</td>\n",
       "      <td>20200306</td>\n",
       "      <td>[골드이슈] 장마감 전 다시 한번 살펴볼 우량주</td>\n",
       "      <td>\"100만원\"만 있어도 지금 당장 \"이것\"부터 사라.. .</td>\n",
       "      <td>1</td>\n",
       "      <td>1</td>\n",
       "      <td>[골드이슈] 장마감 전 다시 한번 살펴볼 우량주 \"100만원\"만 있어도 지금 당장 ...</td>\n",
       "    </tr>\n",
       "    <tr>\n",
       "      <th>63</th>\n",
       "      <td>NEWS04615</td>\n",
       "      <td>20200219</td>\n",
       "      <td>성남시, 아동참여단 공개 모집</td>\n",
       "      <td>저평가+실적+재료 받쳐주는 바이오 대장株. 2020년 한 종목으로 끝</td>\n",
       "      <td>82</td>\n",
       "      <td>1</td>\n",
       "      <td>성남시, 아동참여단 공개 모집 저평가+실적+재료 받쳐주는 바이오 대장株. 2020년...</td>\n",
       "    </tr>\n",
       "    <tr>\n",
       "      <th>64</th>\n",
       "      <td>NEWS04382</td>\n",
       "      <td>20200319</td>\n",
       "      <td>이란 재외국민 등 80명 전세기로 귀국길…19일 오후 인천공항 도착</td>\n",
       "      <td>이란, 코로나19로 988명 숨져확진자는 1만6169명</td>\n",
       "      <td>17</td>\n",
       "      <td>1</td>\n",
       "      <td>이란 재외국민 등 80명 전세기로 귀국길…19일 오후 인천공항 도착 이란, 코로나1...</td>\n",
       "    </tr>\n",
       "    <tr>\n",
       "      <th>65</th>\n",
       "      <td>NEWS04455</td>\n",
       "      <td>20200323</td>\n",
       "      <td>중구, 소형 분무 소독제 5000개 제작</td>\n",
       "      <td>저평가+실적+재료 받쳐주는 바이오 대장株. 2020년 한 종목으로 끝</td>\n",
       "      <td>77</td>\n",
       "      <td>1</td>\n",
       "      <td>중구, 소형 분무 소독제 5000개 제작 저평가+실적+재료 받쳐주는 바이오 대장株....</td>\n",
       "    </tr>\n",
       "    <tr>\n",
       "      <th>66</th>\n",
       "      <td>NEWS00542</td>\n",
       "      <td>20200613</td>\n",
       "      <td>플랫폼 홍수속에서 나온 예능계 ‘부캐’ 트렌드</td>\n",
       "      <td>이럴 때 본질은 본(本)캐, 캐릭터는 부(副)캐라고 말한다</td>\n",
       "      <td>5</td>\n",
       "      <td>0</td>\n",
       "      <td>플랫폼 홍수속에서 나온 예능계 ‘부캐’ 트렌드 이럴 때 본질은 본(本)캐, 캐릭터는...</td>\n",
       "    </tr>\n",
       "    <tr>\n",
       "      <th>67</th>\n",
       "      <td>NEWS06224</td>\n",
       "      <td>20200421</td>\n",
       "      <td>'반려견에 사랑의 손길' 방탄소년단 지민, 오늘은 반려동물이랑 놀아주기</td>\n",
       "      <td>지민은 평소 주변 동물에 대한 각별한 관심과 사랑을 보여왔다</td>\n",
       "      <td>15</td>\n",
       "      <td>0</td>\n",
       "      <td>'반려견에 사랑의 손길' 방탄소년단 지민, 오늘은 반려동물이랑 놀아주기 지민은 평소...</td>\n",
       "    </tr>\n",
       "    <tr>\n",
       "      <th>68</th>\n",
       "      <td>NEWS03605</td>\n",
       "      <td>20200512</td>\n",
       "      <td>\"신흥국 증시 9월 이전 다시 투매 나올 수도\"</td>\n",
       "      <td>이승훈 메리츠증권 연구원은 국제통화기금(IMF) 구제금융 신청 등 외채 불이행을 맞...</td>\n",
       "      <td>15</td>\n",
       "      <td>0</td>\n",
       "      <td>\"신흥국 증시 9월 이전 다시 투매 나올 수도\" 이승훈 메리츠증권 연구원은 국제통화...</td>\n",
       "    </tr>\n",
       "    <tr>\n",
       "      <th>69</th>\n",
       "      <td>NEWS01134</td>\n",
       "      <td>20200501</td>\n",
       "      <td>&lt;김상수 기자의 불멍톡 5&gt;코로나한 3월</td>\n",
       "      <td>요즘 핫한 가게답게 벌써 긴 줄이 생겼다</td>\n",
       "      <td>131</td>\n",
       "      <td>0</td>\n",
       "      <td>&lt;김상수 기자의 불멍톡 5&gt;코로나한 3월 요즘 핫한 가게답게 벌써 긴 줄이 생겼다</td>\n",
       "    </tr>\n",
       "  </tbody>\n",
       "</table>\n",
       "</div>"
      ],
      "text/plain": [
       "         n_id  ...                                             Review\n",
       "50  NEWS02810  ...  공무원·공기업 인건비 160조 육박…공공부문 정규직화의 그늘 \"100만원\"만 있어도...\n",
       "51  NEWS02314  ...  쿠쿠홀딩스(192400)  소폭 상승세 +4.91%, 나흘째 상승 지주사 테마 개요...\n",
       "52  NEWS08055  ...  [이학영 칼럼] '윤미향 의혹'보다 걱정스러운 '집단사고' 회계투명성 의혹 제기를 ...\n",
       "53  NEWS02780  ...  [김영상의 오지랖] “정치풍자, 섹드립 훌훌 다 벗고…” 한때 팬으로서의 자니윤 추...\n",
       "54  NEWS06537  ...  3∼6월 자동차 구매 시 개소세 70% 인하…신용카드 소득공제 2배로 아울러 감염병...\n",
       "55  NEWS01822  ...  밖은 -5도, 고수동굴 안은 +15도, 동굴여행 어때요? 충북의 동굴들은 단양에 집...\n",
       "56  NEWS01464  ...  [분양 포커스]6호선·경의중앙선…‘신내역 시티프라디움’ 관심 집중 중랑캠핑숲, 봉화...\n",
       "57  NEWS04012  ...  평택시, 해외입국자 코로나19 검사 71명 전원 ‘음성’ 지난 25일에는 유럽 11...\n",
       "58  NEWS05112  ...  위기 도미노…‘제2 두산’ 불안 증폭 CJ CGV는 특히 FI(재무적투자자)들과 함...\n",
       "59  NEWS03363  ...  국내 소득 1·2위 직업…기업 고위 임원·국회의원 10%수익을 40%로 만들어 준다...\n",
       "60  NEWS06988  ...  이란 최고지도자, '美공습' 혁명수비대 사령관 사망에 \"혹독한 보복\" 경고 바로 내...\n",
       "61  NEWS00581  ...  문체부 1차관 오영우·환경부 홍정기·중기부 강성천…文대통령, 차관급 인사 단행 신종...\n",
       "62  NEWS05148  ...  [골드이슈] 장마감 전 다시 한번 살펴볼 우량주 \"100만원\"만 있어도 지금 당장 ...\n",
       "63  NEWS04615  ...  성남시, 아동참여단 공개 모집 저평가+실적+재료 받쳐주는 바이오 대장株. 2020년...\n",
       "64  NEWS04382  ...  이란 재외국민 등 80명 전세기로 귀국길…19일 오후 인천공항 도착 이란, 코로나1...\n",
       "65  NEWS04455  ...  중구, 소형 분무 소독제 5000개 제작 저평가+실적+재료 받쳐주는 바이오 대장株....\n",
       "66  NEWS00542  ...  플랫폼 홍수속에서 나온 예능계 ‘부캐’ 트렌드 이럴 때 본질은 본(本)캐, 캐릭터는...\n",
       "67  NEWS06224  ...  '반려견에 사랑의 손길' 방탄소년단 지민, 오늘은 반려동물이랑 놀아주기 지민은 평소...\n",
       "68  NEWS03605  ...  \"신흥국 증시 9월 이전 다시 투매 나올 수도\" 이승훈 메리츠증권 연구원은 국제통화...\n",
       "69  NEWS01134  ...      <김상수 기자의 불멍톡 5>코로나한 3월 요즘 핫한 가게답게 벌써 긴 줄이 생겼다\n",
       "\n",
       "[20 rows x 7 columns]"
      ]
     },
     "execution_count": 15,
     "metadata": {
      "tags": []
     },
     "output_type": "execute_result"
    }
   ],
   "source": [
    "train[50:70]"
   ]
  },
  {
   "cell_type": "code",
   "execution_count": null,
   "metadata": {
    "colab": {
     "base_uri": "https://localhost:8080/"
    },
    "id": "LFFokLO0sj_L",
    "outputId": "8be30c14-d7fa-4875-b2ae-523e1f084d5f"
   },
   "outputs": [
    {
     "name": "stderr",
     "output_type": "stream",
     "text": [
      "100%|██████████| 94996/94996 [00:50<00:00, 1883.92it/s]\n"
     ]
    }
   ],
   "source": [
    "def convert_data(data_df):\n",
    "    global tokenizer\n",
    "    \n",
    "    SEQ_LEN = 128 \n",
    "    \n",
    "    tokens, masks, segments, targets = [], [], [], []\n",
    "    \n",
    "    for i in tqdm(range(len(data_df))):\n",
    "        token = tokenizer.encode(data_df[DATA_COLUMN][i], max_length=SEQ_LEN, truncation=True, padding='max_length')\n",
    "       \n",
    "        num_zeros = token.count(0)\n",
    "        mask = [1]*(SEQ_LEN-num_zeros) + [0]*num_zeros\n",
    "        \n",
    "        segment = [0]*SEQ_LEN\n",
    "\n",
    "        tokens.append(token)\n",
    "        masks.append(mask)\n",
    "        segments.append(segment)\n",
    "        \n",
    "        targets.append(data_df[LABEL_COLUMN][i])\n",
    "\n",
    "    tokens = np.array(tokens)\n",
    "    masks = np.array(masks)\n",
    "    segments = np.array(segments)\n",
    "    targets = np.array(targets)\n",
    "\n",
    "    return [tokens, masks, segments], targets\n",
    "\n",
    "def load_data(pandas_dataframe):\n",
    "    data_df = pandas_dataframe\n",
    "    data_df[DATA_COLUMN] = data_df[DATA_COLUMN].astype(str)\n",
    "    data_df[LABEL_COLUMN] = data_df[LABEL_COLUMN].astype(int)\n",
    "    data_x, data_y = convert_data(data_df)\n",
    "    return data_x, data_y\n",
    "\n",
    "SEQ_LEN = 128\n",
    "BATCH_SIZE = 20\n",
    "DATA_COLUMN = \"Review\"\n",
    "LABEL_COLUMN = \"information\"\n",
    "\n",
    "train_x, train_y = load_data(train)"
   ]
  },
  {
   "cell_type": "code",
   "execution_count": null,
   "metadata": {
    "colab": {
     "base_uri": "https://localhost:8080/"
    },
    "id": "9ocb17LekZVn",
    "outputId": "f2d1ce0b-69bc-4e2d-c215-1f87727749e1"
   },
   "outputs": [
    {
     "name": "stderr",
     "output_type": "stream",
     "text": [
      "100%|██████████| 23749/23749 [00:12<00:00, 1892.84it/s]\n"
     ]
    }
   ],
   "source": [
    "test_x, test_y = load_data(test)"
   ]
  },
  {
   "cell_type": "code",
   "execution_count": null,
   "metadata": {
    "colab": {
     "base_uri": "https://localhost:8080/",
     "height": 227,
     "referenced_widgets": [
      "9ae6a863e66745c1b85e11b4dd1c86b7",
      "61023680268147eebc01559901a3e11b",
      "e05837104bfa43ad80de64bdc5fca813",
      "3f7db7ba6ddb423cab87228d66eb9102",
      "7195097f6f194cbb84ed73f3da391dd9",
      "a36c593ebb9a4db7a0d0019f9c288308",
      "47e53f1c96e047429d13a6d48a9a2c9c",
      "59d171cb1dfa46d49ad65d1cc427ea5a",
      "fac221cfbd054b5581b29475beade412",
      "b55b6acf693c43d6adc6f6723ae46939",
      "7c6c1f06eb554c3a8a8c3cd5269008f1",
      "ed3a8364ebb44b94a4d5e4176cbdf327",
      "e445d8e8dd8a4973ab094f49b3b21376",
      "8c9388723d8e4afaae6bc791a50e7148",
      "cb07ffce421544458b3bd62c913e14ca",
      "77b767a4626f4b69a201d6b7971c0e60"
     ]
    },
    "id": "W85BlYfo2Wge",
    "outputId": "d7786edd-3ce4-49c6-fd42-e0d60f385540"
   },
   "outputs": [
    {
     "data": {
      "application/vnd.jupyter.widget-view+json": {
       "model_id": "9ae6a863e66745c1b85e11b4dd1c86b7",
       "version_major": 2,
       "version_minor": 0
      },
      "text/plain": [
       "HBox(children=(FloatProgress(value=0.0, description='Downloading', max=625.0, style=ProgressStyle(description_…"
      ]
     },
     "metadata": {
      "tags": []
     },
     "output_type": "display_data"
    },
    {
     "name": "stdout",
     "output_type": "stream",
     "text": [
      "\n"
     ]
    },
    {
     "data": {
      "application/vnd.jupyter.widget-view+json": {
       "model_id": "fac221cfbd054b5581b29475beade412",
       "version_major": 2,
       "version_minor": 0
      },
      "text/plain": [
       "HBox(children=(FloatProgress(value=0.0, description='Downloading', max=1083389348.0, style=ProgressStyle(descr…"
      ]
     },
     "metadata": {
      "tags": []
     },
     "output_type": "display_data"
    },
    {
     "name": "stdout",
     "output_type": "stream",
     "text": [
      "\n"
     ]
    },
    {
     "name": "stderr",
     "output_type": "stream",
     "text": [
      "Some layers from the model checkpoint at bert-base-multilingual-cased were not used when initializing TFBertModel: ['nsp___cls', 'mlm___cls']\n",
      "- This IS expected if you are initializing TFBertModel from the checkpoint of a model trained on another task or with another architecture (e.g. initializing a BertForSequenceClassification model from a BertForPreTraining model).\n",
      "- This IS NOT expected if you are initializing TFBertModel from the checkpoint of a model that you expect to be exactly identical (initializing a BertForSequenceClassification model from a BertForSequenceClassification model).\n",
      "All the layers of TFBertModel were initialized from the model checkpoint at bert-base-multilingual-cased.\n",
      "If your task is similar to the task the model of the checkpoint was trained on, you can already use TFBertModel for predictions without further training.\n"
     ]
    }
   ],
   "source": [
    "model = TFBertModel.from_pretrained('bert-base-multilingual-cased')\n",
    "token_inputs = tf.keras.layers.Input((SEQ_LEN,), dtype=tf.int32, name='input_word_ids')\n",
    "mask_inputs = tf.keras.layers.Input((SEQ_LEN,), dtype=tf.int32, name='input_masks')\n",
    "segment_inputs = tf.keras.layers.Input((SEQ_LEN,), dtype=tf.int32, name='input_segment')\n",
    "bert_outputs = model([token_inputs, mask_inputs, segment_inputs])"
   ]
  },
  {
   "cell_type": "code",
   "execution_count": null,
   "metadata": {
    "id": "CXKy-Jsg3eKA"
   },
   "outputs": [],
   "source": [
    "bert_outputs = bert_outputs[1]\n",
    "classification_first = tf.keras.layers.Dense(1, activation='sigmoid', kernel_initializer=tf.keras.initializers.TruncatedNormal(stddev=0.02))(bert_outputs)\n",
    "classification_model = tf.keras.Model([token_inputs, mask_inputs, segment_inputs], classification_first)\n",
    "classification_model.compile(optimizer=tf.keras.optimizers.Adam(lr=1.0e-5), loss=tf.keras.losses.BinaryCrossentropy(), metrics = [tf.keras.metrics.Precision(name='precision'), tf.keras.metrics.FalsePositives(name='FalsePositive'), 'accuracy'])"
   ]
  },
  {
   "cell_type": "code",
   "execution_count": null,
   "metadata": {
    "colab": {
     "base_uri": "https://localhost:8080/"
    },
    "id": "l4Si9oO33i70",
    "outputId": "9ccc5118-b8b2-4e46-d0f2-f5b584c77e06"
   },
   "outputs": [
    {
     "name": "stdout",
     "output_type": "stream",
     "text": [
      "Model: \"functional_1\"\n",
      "__________________________________________________________________________________________________\n",
      "Layer (type)                    Output Shape         Param #     Connected to                     \n",
      "==================================================================================================\n",
      "input_word_ids (InputLayer)     [(None, 128)]        0                                            \n",
      "__________________________________________________________________________________________________\n",
      "input_masks (InputLayer)        [(None, 128)]        0                                            \n",
      "__________________________________________________________________________________________________\n",
      "input_segment (InputLayer)      [(None, 128)]        0                                            \n",
      "__________________________________________________________________________________________________\n",
      "tf_bert_model (TFBertModel)     TFBaseModelOutputWit 177853440   input_word_ids[0][0]             \n",
      "                                                                 input_masks[0][0]                \n",
      "                                                                 input_segment[0][0]              \n",
      "__________________________________________________________________________________________________\n",
      "dense (Dense)                   (None, 1)            769         tf_bert_model[0][1]              \n",
      "==================================================================================================\n",
      "Total params: 177,854,209\n",
      "Trainable params: 177,854,209\n",
      "Non-trainable params: 0\n",
      "__________________________________________________________________________________________________\n"
     ]
    }
   ],
   "source": [
    "classification_model.summary()"
   ]
  },
  {
   "cell_type": "code",
   "execution_count": null,
   "metadata": {
    "id": "hiH25UmlK-R2"
   },
   "outputs": [],
   "source": [
    "import tensorflow_addons as tfa\n",
    "opt = tfa.optimizers.RectifiedAdam(lr=1.0e-5, weight_decay=0.0025)"
   ]
  },
  {
   "cell_type": "code",
   "execution_count": null,
   "metadata": {
    "id": "90uerGX4Rl2d"
   },
   "outputs": [],
   "source": [
    "def create_classification_bert():\n",
    "  model = TFBertModel.from_pretrained('bert-base-multilingual-cased')\n",
    "  token_inputs = tf.keras.layers.Input((SEQ_LEN,), dtype=tf.int32, name='input_word_ids')\n",
    "  mask_inputs = tf.keras.layers.Input((SEQ_LEN,), dtype=tf.int32, name='input_masks')\n",
    "  segment_inputs = tf.keras.layers.Input((SEQ_LEN,), dtype=tf.int32, name='input_segment')\n",
    "  bert_outputs = model([token_inputs, mask_inputs, segment_inputs])\n",
    "\n",
    "  bert_outputs = bert_outputs[1]\n",
    "  classification_first = tf.keras.layers.Dense(1, activation='sigmoid', kernel_initializer=tf.keras.initializers.TruncatedNormal(stddev=0.02))(bert_outputs)\n",
    "  classification_model = tf.keras.Model([token_inputs, mask_inputs, segment_inputs], classification_first)\n",
    "\n",
    "  classification_model.compile(optimizer=tf.keras.optimizers.Adam(lr=1.0e-5), loss=tf.keras.losses.BinaryCrossentropy(), metrics = [tf.keras.metrics.Precision(name='precision'), tf.keras.metrics.FalsePositives(name='FalsePositive'), 'accuracy'])\n",
    "  return classification_model"
   ]
  },
  {
   "cell_type": "code",
   "execution_count": null,
   "metadata": {
    "colab": {
     "base_uri": "https://localhost:8080/"
    },
    "id": "70SZBTO0-Fq0",
    "outputId": "5e5ad42b-2864-4ff6-8dd2-84e7bcbbbb4c"
   },
   "outputs": [
    {
     "name": "stderr",
     "output_type": "stream",
     "text": [
      "Some layers from the model checkpoint at bert-base-multilingual-cased were not used when initializing TFBertModel: ['nsp___cls', 'mlm___cls']\n",
      "- This IS expected if you are initializing TFBertModel from the checkpoint of a model trained on another task or with another architecture (e.g. initializing a BertForSequenceClassification model from a BertForPreTraining model).\n",
      "- This IS NOT expected if you are initializing TFBertModel from the checkpoint of a model that you expect to be exactly identical (initializing a BertForSequenceClassification model from a BertForSequenceClassification model).\n",
      "All the layers of TFBertModel were initialized from the model checkpoint at bert-base-multilingual-cased.\n",
      "If your task is similar to the task the model of the checkpoint was trained on, you can already use TFBertModel for predictions without further training.\n"
     ]
    },
    {
     "name": "stdout",
     "output_type": "stream",
     "text": [
      "Epoch 1/4\n",
      "4750/4750 [==============================] - 1774s 374ms/step - loss: 0.0506 - precision: 0.9742 - FalsePositive: 974.0000 - accuracy: 0.9812 - val_loss: 0.0270 - val_precision: 0.9899 - val_FalsePositive: 95.0000 - val_accuracy: 0.9909\n",
      "Epoch 2/4\n",
      "4750/4750 [==============================] - 1769s 372ms/step - loss: 0.0186 - precision: 0.9913 - FalsePositive: 325.0000 - accuracy: 0.9934 - val_loss: 0.0236 - val_precision: 0.9937 - val_FalsePositive: 59.0000 - val_accuracy: 0.9922\n",
      "Epoch 3/4\n",
      "4750/4750 [==============================] - 1769s 372ms/step - loss: 0.0110 - precision: 0.9953 - FalsePositive: 175.0000 - accuracy: 0.9965 - val_loss: 0.0217 - val_precision: 0.9948 - val_FalsePositive: 49.0000 - val_accuracy: 0.9939\n",
      "Epoch 4/4\n",
      "4750/4750 [==============================] - 1769s 372ms/step - loss: 0.0069 - precision: 0.9975 - FalsePositive: 93.0000 - accuracy: 0.9978 - val_loss: 0.0234 - val_precision: 0.9935 - val_FalsePositive: 61.0000 - val_accuracy: 0.9941\n"
     ]
    }
   ],
   "source": [
    "classification_model = create_classification_bert()\n",
    "  \n",
    "hist = classification_model.fit(train_x, train_y, epochs=4, shuffle=True, batch_size=20, validation_data=(test_x, test_y))"
   ]
  },
  {
   "cell_type": "code",
   "execution_count": null,
   "metadata": {
    "colab": {
     "base_uri": "https://localhost:8080/"
    },
    "id": "1pXoAZUm7drr",
    "outputId": "da270a80-9658-41ce-9023-da64a5805b6e"
   },
   "outputs": [
    {
     "name": "stdout",
     "output_type": "stream",
     "text": [
      "[0.05056866258382797, 0.018644265830516815, 0.010996229015290737, 0.006860386114567518]\n",
      "[0.9812307953834534, 0.9934207797050476, 0.9964525103569031, 0.9977893829345703]\n",
      "[0.9741719961166382, 0.9913496971130371, 0.9953406453132629, 0.9975214600563049]\n"
     ]
    }
   ],
   "source": [
    "print(hist.history['loss'])\n",
    "print(hist.history['accuracy']) \n",
    "print(hist.history['precision'])"
   ]
  },
  {
   "cell_type": "code",
   "execution_count": null,
   "metadata": {
    "colab": {
     "base_uri": "https://localhost:8080/",
     "height": 541
    },
    "id": "Kbhn7Bn9W83T",
    "outputId": "cd12b2cd-ef2a-4f43-a1d4-b6e42f906d2e"
   },
   "outputs": [
    {
     "data": {
      "image/png": "[encoded data removed]",
      "text/plain": [
       "<Figure size 432x288 with 2 Axes>"
      ]
     },
     "metadata": {
      "needs_background": "light",
      "tags": []
     },
     "output_type": "display_data"
    },
    {
     "data": {
      "image/png": "[encoded data removed]",
      "text/plain": [
       "<Figure size 432x288 with 1 Axes>"
      ]
     },
     "metadata": {
      "needs_background": "light",
      "tags": []
     },
     "output_type": "display_data"
    }
   ],
   "source": [
    "%matplotlib inline\n",
    "import matplotlib.pyplot as plt\n",
    "\n",
    "fig, loss_ax = plt.subplots()\n",
    "\n",
    "acc_ax = loss_ax.twinx()\n",
    "\n",
    "loss_ax.plot(hist.history['loss'], 'y', label='train loss')\n",
    "loss_ax.plot(hist.history['val_loss'], 'r', label='val loss')\n",
    "\n",
    "acc_ax.plot(hist.history['accuracy'], 'b', label='train accuracy')\n",
    "acc_ax.plot(hist.history['val_accuracy'], 'g', label='val accuracy')\n",
    "\n",
    "loss_ax.set_xlabel('epoch')\n",
    "loss_ax.set_ylabel('loss')\n",
    "acc_ax.set_ylabel('accuray')\n",
    "\n",
    "loss_ax.legend(loc='upper left')\n",
    "acc_ax.legend(loc='lower left')\n",
    "\n",
    "####################################\n",
    "fig, prec_ax = plt.subplots()\n",
    "\n",
    "prec_ax.plot(hist.history['precision'], 'y', label='train precision')\n",
    "prec_ax.plot(hist.history['val_precision'], 'r', label='val precision')\n",
    "\n",
    "prec_ax.set_xlabel('epoch')\n",
    "prec_ax.set_ylabel('precision')\n",
    "\n",
    "prec_ax.legend(loc='upper left')\n",
    "\n",
    "plt.show()"
   ]
  },
  {
   "cell_type": "code",
   "execution_count": null,
   "metadata": {
    "id": "tBOdOlBT8K6l"
   },
   "outputs": [],
   "source": [
    "path = \"/content/gdrive/My Drive/Colab Notebooks/News_detection\""
   ]
  },
  {
   "cell_type": "code",
   "execution_count": null,
   "metadata": {
    "colab": {
     "base_uri": "https://localhost:8080/",
     "height": 35
    },
    "id": "AeA4cmVW3ypX",
    "outputId": "e72fab45-e992-441e-8126-e71195ec822e"
   },
   "outputs": [
    {
     "data": {
      "application/vnd.google.colaboratory.intrinsic+json": {
       "type": "string"
      },
      "text/plain": [
       "'/content/gdrive/My Drive/Colab Notebooks/News_detection/train_test'"
      ]
     },
     "execution_count": 27,
     "metadata": {
      "tags": []
     },
     "output_type": "execute_result"
    }
   ],
   "source": [
    "os.getcwd()"
   ]
  },
  {
   "cell_type": "code",
   "execution_count": null,
   "metadata": {
    "id": "syqCPgVa_sKZ"
   },
   "outputs": [],
   "source": [
    "classification_model.save_weights(path+\"/News_detection_ver3(noprepro_multibert_title).h5\")"
   ]
  },
  {
   "cell_type": "code",
   "execution_count": null,
   "metadata": {
    "id": "Zjv6RMR1jYIe"
   },
   "outputs": [],
   "source": [
    "def sentence_convert_data(data):\n",
    "    global tokenizer\n",
    "    tokens, masks, segments = [], [], []\n",
    "    token = tokenizer.encode(data, max_length=SEQ_LEN, truncation=True, padding='max_length')\n",
    "    \n",
    "    num_zeros = token.count(0) \n",
    "    mask = [1]*(SEQ_LEN-num_zeros) + [0]*num_zeros \n",
    "    segment = [0]*SEQ_LEN\n",
    "\n",
    "    tokens.append(token)\n",
    "    segments.append(segment)\n",
    "    masks.append(mask)\n",
    "\n",
    "    tokens = np.array(tokens)\n",
    "    masks = np.array(masks)\n",
    "    segments = np.array(segments)\n",
    "    return [tokens, masks, segments]\n",
    "\n",
    "def information_evaluation_predict(sentence):\n",
    "    data_x = sentence_convert_data(sentence)\n",
    "    predict = classification_model.predict(data_x)\n",
    "    predict_value = np.ravel(predict)\n",
    "    predict_answer = np.round(predict_value,0).item()\n",
    "    \n",
    "    if predict_answer == 0:\n",
    "      print(\"(정보가 있을 확률 : %.2f) 정보가 있는 문장입니다.\" % (1-predict_value))\n",
    "    elif predict_answer == 1:\n",
    "      print(\"(정보가 없을 확률 : %.2f) 정보가 없는 문장입니다.\" % predict_value)"
   ]
  }
 ],
 "metadata": {
  "accelerator": "GPU",
  "colab": {
   "collapsed_sections": [],
   "machine_shape": "hm",
   "name": "뉴스 실습3(제목+내용+그냥버트)",
   "provenance": [],
   "toc_visible": true
  },
  "kernelspec": {
   "display_name": "Python 3",
   "language": "python",
   "name": "python3"
  },
  "language_info": {
   "codemirror_mode": {
    "name": "ipython",
    "version": 3
   },
   "file_extension": ".py",
   "mimetype": "text/x-python",
   "name": "python",
   "nbconvert_exporter": "python",
   "pygments_lexer": "ipython3",
   "version": "3.9.1"
  },
  "widgets": {
   "application/vnd.jupyter.widget-state+json": {
    "30cde1b128d44eaab0cf9845c09dff46": {
     "model_module": "@jupyter-widgets/controls",
     "model_name": "HTMLModel",
     "state": {
      "_dom_classes": [],
      "_model_module": "@jupyter-widgets/controls",
      "_model_module_version": "1.5.0",
      "_model_name": "HTMLModel",
      "_view_count": null,
      "_view_module": "@jupyter-widgets/controls",
      "_view_module_version": "1.5.0",
      "_view_name": "HTMLView",
      "description": "",
      "description_tooltip": null,
      "layout": "IPY_MODEL_c442640f431748c9b772cf4deaf2cdde",
      "placeholder": "​",
      "style": "IPY_MODEL_7496b55f8c7244d59337ab79d5b9b754",
      "value": " 996k/996k [00:00&lt;00:00, 2.05MB/s]"
     }
    },
    "3f7db7ba6ddb423cab87228d66eb9102": {
     "model_module": "@jupyter-widgets/controls",
     "model_name": "HTMLModel",
     "state": {
      "_dom_classes": [],
      "_model_module": "@jupyter-widgets/controls",
      "_model_module_version": "1.5.0",
      "_model_name": "HTMLModel",
      "_view_count": null,
      "_view_module": "@jupyter-widgets/controls",
      "_view_module_version": "1.5.0",
      "_view_name": "HTMLView",
      "description": "",
      "description_tooltip": null,
      "layout": "IPY_MODEL_59d171cb1dfa46d49ad65d1cc427ea5a",
      "placeholder": "​",
      "style": "IPY_MODEL_47e53f1c96e047429d13a6d48a9a2c9c",
      "value": " 625/625 [00:26&lt;00:00, 23.2B/s]"
     }
    },
    "47e53f1c96e047429d13a6d48a9a2c9c": {
     "model_module": "@jupyter-widgets/controls",
     "model_name": "DescriptionStyleModel",
     "state": {
      "_model_module": "@jupyter-widgets/controls",
      "_model_module_version": "1.5.0",
      "_model_name": "DescriptionStyleModel",
      "_view_count": null,
      "_view_module": "@jupyter-widgets/base",
      "_view_module_version": "1.2.0",
      "_view_name": "StyleView",
      "description_width": ""
     }
    },
    "50ae3e4ed9c24483b470819db1338c54": {
     "model_module": "@jupyter-widgets/controls",
     "model_name": "ProgressStyleModel",
     "state": {
      "_model_module": "@jupyter-widgets/controls",
      "_model_module_version": "1.5.0",
      "_model_name": "ProgressStyleModel",
      "_view_count": null,
      "_view_module": "@jupyter-widgets/base",
      "_view_module_version": "1.2.0",
      "_view_name": "StyleView",
      "bar_color": null,
      "description_width": "initial"
     }
    },
    "59d171cb1dfa46d49ad65d1cc427ea5a": {
     "model_module": "@jupyter-widgets/base",
     "model_name": "LayoutModel",
     "state": {
      "_model_module": "@jupyter-widgets/base",
      "_model_module_version": "1.2.0",
      "_model_name": "LayoutModel",
      "_view_count": null,
      "_view_module": "@jupyter-widgets/base",
      "_view_module_version": "1.2.0",
      "_view_name": "LayoutView",
      "align_content": null,
      "align_items": null,
      "align_self": null,
      "border": null,
      "bottom": null,
      "display": null,
      "flex": null,
      "flex_flow": null,
      "grid_area": null,
      "grid_auto_columns": null,
      "grid_auto_flow": null,
      "grid_auto_rows": null,
      "grid_column": null,
      "grid_gap": null,
      "grid_row": null,
      "grid_template_areas": null,
      "grid_template_columns": null,
      "grid_template_rows": null,
      "height": null,
      "justify_content": null,
      "justify_items": null,
      "left": null,
      "margin": null,
      "max_height": null,
      "max_width": null,
      "min_height": null,
      "min_width": null,
      "object_fit": null,
      "object_position": null,
      "order": null,
      "overflow": null,
      "overflow_x": null,
      "overflow_y": null,
      "padding": null,
      "right": null,
      "top": null,
      "visibility": null,
      "width": null
     }
    },
    "61023680268147eebc01559901a3e11b": {
     "model_module": "@jupyter-widgets/base",
     "model_name": "LayoutModel",
     "state": {
      "_model_module": "@jupyter-widgets/base",
      "_model_module_version": "1.2.0",
      "_model_name": "LayoutModel",
      "_view_count": null,
      "_view_module": "@jupyter-widgets/base",
      "_view_module_version": "1.2.0",
      "_view_name": "LayoutView",
      "align_content": null,
      "align_items": null,
      "align_self": null,
      "border": null,
      "bottom": null,
      "display": null,
      "flex": null,
      "flex_flow": null,
      "grid_area": null,
      "grid_auto_columns": null,
      "grid_auto_flow": null,
      "grid_auto_rows": null,
      "grid_column": null,
      "grid_gap": null,
      "grid_row": null,
      "grid_template_areas": null,
      "grid_template_columns": null,
      "grid_template_rows": null,
      "height": null,
      "justify_content": null,
      "justify_items": null,
      "left": null,
      "margin": null,
      "max_height": null,
      "max_width": null,
      "min_height": null,
      "min_width": null,
      "object_fit": null,
      "object_position": null,
      "order": null,
      "overflow": null,
      "overflow_x": null,
      "overflow_y": null,
      "padding": null,
      "right": null,
      "top": null,
      "visibility": null,
      "width": null
     }
    },
    "7195097f6f194cbb84ed73f3da391dd9": {
     "model_module": "@jupyter-widgets/controls",
     "model_name": "ProgressStyleModel",
     "state": {
      "_model_module": "@jupyter-widgets/controls",
      "_model_module_version": "1.5.0",
      "_model_name": "ProgressStyleModel",
      "_view_count": null,
      "_view_module": "@jupyter-widgets/base",
      "_view_module_version": "1.2.0",
      "_view_name": "StyleView",
      "bar_color": null,
      "description_width": "initial"
     }
    },
    "7496b55f8c7244d59337ab79d5b9b754": {
     "model_module": "@jupyter-widgets/controls",
     "model_name": "DescriptionStyleModel",
     "state": {
      "_model_module": "@jupyter-widgets/controls",
      "_model_module_version": "1.5.0",
      "_model_name": "DescriptionStyleModel",
      "_view_count": null,
      "_view_module": "@jupyter-widgets/base",
      "_view_module_version": "1.2.0",
      "_view_name": "StyleView",
      "description_width": ""
     }
    },
    "77b767a4626f4b69a201d6b7971c0e60": {
     "model_module": "@jupyter-widgets/base",
     "model_name": "LayoutModel",
     "state": {
      "_model_module": "@jupyter-widgets/base",
      "_model_module_version": "1.2.0",
      "_model_name": "LayoutModel",
      "_view_count": null,
      "_view_module": "@jupyter-widgets/base",
      "_view_module_version": "1.2.0",
      "_view_name": "LayoutView",
      "align_content": null,
      "align_items": null,
      "align_self": null,
      "border": null,
      "bottom": null,
      "display": null,
      "flex": null,
      "flex_flow": null,
      "grid_area": null,
      "grid_auto_columns": null,
      "grid_auto_flow": null,
      "grid_auto_rows": null,
      "grid_column": null,
      "grid_gap": null,
      "grid_row": null,
      "grid_template_areas": null,
      "grid_template_columns": null,
      "grid_template_rows": null,
      "height": null,
      "justify_content": null,
      "justify_items": null,
      "left": null,
      "margin": null,
      "max_height": null,
      "max_width": null,
      "min_height": null,
      "min_width": null,
      "object_fit": null,
      "object_position": null,
      "order": null,
      "overflow": null,
      "overflow_x": null,
      "overflow_y": null,
      "padding": null,
      "right": null,
      "top": null,
      "visibility": null,
      "width": null
     }
    },
    "7c6c1f06eb554c3a8a8c3cd5269008f1": {
     "model_module": "@jupyter-widgets/controls",
     "model_name": "FloatProgressModel",
     "state": {
      "_dom_classes": [],
      "_model_module": "@jupyter-widgets/controls",
      "_model_module_version": "1.5.0",
      "_model_name": "FloatProgressModel",
      "_view_count": null,
      "_view_module": "@jupyter-widgets/controls",
      "_view_module_version": "1.5.0",
      "_view_name": "ProgressView",
      "bar_style": "success",
      "description": "Downloading: 100%",
      "description_tooltip": null,
      "layout": "IPY_MODEL_8c9388723d8e4afaae6bc791a50e7148",
      "max": 1083389348,
      "min": 0,
      "orientation": "horizontal",
      "style": "IPY_MODEL_e445d8e8dd8a4973ab094f49b3b21376",
      "value": 1083389348
     }
    },
    "7ee5d4ed7e814adfb8bb72b13b341c1d": {
     "model_module": "@jupyter-widgets/base",
     "model_name": "LayoutModel",
     "state": {
      "_model_module": "@jupyter-widgets/base",
      "_model_module_version": "1.2.0",
      "_model_name": "LayoutModel",
      "_view_count": null,
      "_view_module": "@jupyter-widgets/base",
      "_view_module_version": "1.2.0",
      "_view_name": "LayoutView",
      "align_content": null,
      "align_items": null,
      "align_self": null,
      "border": null,
      "bottom": null,
      "display": null,
      "flex": null,
      "flex_flow": null,
      "grid_area": null,
      "grid_auto_columns": null,
      "grid_auto_flow": null,
      "grid_auto_rows": null,
      "grid_column": null,
      "grid_gap": null,
      "grid_row": null,
      "grid_template_areas": null,
      "grid_template_columns": null,
      "grid_template_rows": null,
      "height": null,
      "justify_content": null,
      "justify_items": null,
      "left": null,
      "margin": null,
      "max_height": null,
      "max_width": null,
      "min_height": null,
      "min_width": null,
      "object_fit": null,
      "object_position": null,
      "order": null,
      "overflow": null,
      "overflow_x": null,
      "overflow_y": null,
      "padding": null,
      "right": null,
      "top": null,
      "visibility": null,
      "width": null
     }
    },
    "811b628915d94c9780301fde32f4a1bd": {
     "model_module": "@jupyter-widgets/base",
     "model_name": "LayoutModel",
     "state": {
      "_model_module": "@jupyter-widgets/base",
      "_model_module_version": "1.2.0",
      "_model_name": "LayoutModel",
      "_view_count": null,
      "_view_module": "@jupyter-widgets/base",
      "_view_module_version": "1.2.0",
      "_view_name": "LayoutView",
      "align_content": null,
      "align_items": null,
      "align_self": null,
      "border": null,
      "bottom": null,
      "display": null,
      "flex": null,
      "flex_flow": null,
      "grid_area": null,
      "grid_auto_columns": null,
      "grid_auto_flow": null,
      "grid_auto_rows": null,
      "grid_column": null,
      "grid_gap": null,
      "grid_row": null,
      "grid_template_areas": null,
      "grid_template_columns": null,
      "grid_template_rows": null,
      "height": null,
      "justify_content": null,
      "justify_items": null,
      "left": null,
      "margin": null,
      "max_height": null,
      "max_width": null,
      "min_height": null,
      "min_width": null,
      "object_fit": null,
      "object_position": null,
      "order": null,
      "overflow": null,
      "overflow_x": null,
      "overflow_y": null,
      "padding": null,
      "right": null,
      "top": null,
      "visibility": null,
      "width": null
     }
    },
    "8c9388723d8e4afaae6bc791a50e7148": {
     "model_module": "@jupyter-widgets/base",
     "model_name": "LayoutModel",
     "state": {
      "_model_module": "@jupyter-widgets/base",
      "_model_module_version": "1.2.0",
      "_model_name": "LayoutModel",
      "_view_count": null,
      "_view_module": "@jupyter-widgets/base",
      "_view_module_version": "1.2.0",
      "_view_name": "LayoutView",
      "align_content": null,
      "align_items": null,
      "align_self": null,
      "border": null,
      "bottom": null,
      "display": null,
      "flex": null,
      "flex_flow": null,
      "grid_area": null,
      "grid_auto_columns": null,
      "grid_auto_flow": null,
      "grid_auto_rows": null,
      "grid_column": null,
      "grid_gap": null,
      "grid_row": null,
      "grid_template_areas": null,
      "grid_template_columns": null,
      "grid_template_rows": null,
      "height": null,
      "justify_content": null,
      "justify_items": null,
      "left": null,
      "margin": null,
      "max_height": null,
      "max_width": null,
      "min_height": null,
      "min_width": null,
      "object_fit": null,
      "object_position": null,
      "order": null,
      "overflow": null,
      "overflow_x": null,
      "overflow_y": null,
      "padding": null,
      "right": null,
      "top": null,
      "visibility": null,
      "width": null
     }
    },
    "9ae6a863e66745c1b85e11b4dd1c86b7": {
     "model_module": "@jupyter-widgets/controls",
     "model_name": "HBoxModel",
     "state": {
      "_dom_classes": [],
      "_model_module": "@jupyter-widgets/controls",
      "_model_module_version": "1.5.0",
      "_model_name": "HBoxModel",
      "_view_count": null,
      "_view_module": "@jupyter-widgets/controls",
      "_view_module_version": "1.5.0",
      "_view_name": "HBoxView",
      "box_style": "",
      "children": [
       "IPY_MODEL_e05837104bfa43ad80de64bdc5fca813",
       "IPY_MODEL_3f7db7ba6ddb423cab87228d66eb9102"
      ],
      "layout": "IPY_MODEL_61023680268147eebc01559901a3e11b"
     }
    },
    "a36c593ebb9a4db7a0d0019f9c288308": {
     "model_module": "@jupyter-widgets/base",
     "model_name": "LayoutModel",
     "state": {
      "_model_module": "@jupyter-widgets/base",
      "_model_module_version": "1.2.0",
      "_model_name": "LayoutModel",
      "_view_count": null,
      "_view_module": "@jupyter-widgets/base",
      "_view_module_version": "1.2.0",
      "_view_name": "LayoutView",
      "align_content": null,
      "align_items": null,
      "align_self": null,
      "border": null,
      "bottom": null,
      "display": null,
      "flex": null,
      "flex_flow": null,
      "grid_area": null,
      "grid_auto_columns": null,
      "grid_auto_flow": null,
      "grid_auto_rows": null,
      "grid_column": null,
      "grid_gap": null,
      "grid_row": null,
      "grid_template_areas": null,
      "grid_template_columns": null,
      "grid_template_rows": null,
      "height": null,
      "justify_content": null,
      "justify_items": null,
      "left": null,
      "margin": null,
      "max_height": null,
      "max_width": null,
      "min_height": null,
      "min_width": null,
      "object_fit": null,
      "object_position": null,
      "order": null,
      "overflow": null,
      "overflow_x": null,
      "overflow_y": null,
      "padding": null,
      "right": null,
      "top": null,
      "visibility": null,
      "width": null
     }
    },
    "b55b6acf693c43d6adc6f6723ae46939": {
     "model_module": "@jupyter-widgets/base",
     "model_name": "LayoutModel",
     "state": {
      "_model_module": "@jupyter-widgets/base",
      "_model_module_version": "1.2.0",
      "_model_name": "LayoutModel",
      "_view_count": null,
      "_view_module": "@jupyter-widgets/base",
      "_view_module_version": "1.2.0",
      "_view_name": "LayoutView",
      "align_content": null,
      "align_items": null,
      "align_self": null,
      "border": null,
      "bottom": null,
      "display": null,
      "flex": null,
      "flex_flow": null,
      "grid_area": null,
      "grid_auto_columns": null,
      "grid_auto_flow": null,
      "grid_auto_rows": null,
      "grid_column": null,
      "grid_gap": null,
      "grid_row": null,
      "grid_template_areas": null,
      "grid_template_columns": null,
      "grid_template_rows": null,
      "height": null,
      "justify_content": null,
      "justify_items": null,
      "left": null,
      "margin": null,
      "max_height": null,
      "max_width": null,
      "min_height": null,
      "min_width": null,
      "object_fit": null,
      "object_position": null,
      "order": null,
      "overflow": null,
      "overflow_x": null,
      "overflow_y": null,
      "padding": null,
      "right": null,
      "top": null,
      "visibility": null,
      "width": null
     }
    },
    "c442640f431748c9b772cf4deaf2cdde": {
     "model_module": "@jupyter-widgets/base",
     "model_name": "LayoutModel",
     "state": {
      "_model_module": "@jupyter-widgets/base",
      "_model_module_version": "1.2.0",
      "_model_name": "LayoutModel",
      "_view_count": null,
      "_view_module": "@jupyter-widgets/base",
      "_view_module_version": "1.2.0",
      "_view_name": "LayoutView",
      "align_content": null,
      "align_items": null,
      "align_self": null,
      "border": null,
      "bottom": null,
      "display": null,
      "flex": null,
      "flex_flow": null,
      "grid_area": null,
      "grid_auto_columns": null,
      "grid_auto_flow": null,
      "grid_auto_rows": null,
      "grid_column": null,
      "grid_gap": null,
      "grid_row": null,
      "grid_template_areas": null,
      "grid_template_columns": null,
      "grid_template_rows": null,
      "height": null,
      "justify_content": null,
      "justify_items": null,
      "left": null,
      "margin": null,
      "max_height": null,
      "max_width": null,
      "min_height": null,
      "min_width": null,
      "object_fit": null,
      "object_position": null,
      "order": null,
      "overflow": null,
      "overflow_x": null,
      "overflow_y": null,
      "padding": null,
      "right": null,
      "top": null,
      "visibility": null,
      "width": null
     }
    },
    "cb07ffce421544458b3bd62c913e14ca": {
     "model_module": "@jupyter-widgets/controls",
     "model_name": "DescriptionStyleModel",
     "state": {
      "_model_module": "@jupyter-widgets/controls",
      "_model_module_version": "1.5.0",
      "_model_name": "DescriptionStyleModel",
      "_view_count": null,
      "_view_module": "@jupyter-widgets/base",
      "_view_module_version": "1.2.0",
      "_view_name": "StyleView",
      "description_width": ""
     }
    },
    "e05837104bfa43ad80de64bdc5fca813": {
     "model_module": "@jupyter-widgets/controls",
     "model_name": "FloatProgressModel",
     "state": {
      "_dom_classes": [],
      "_model_module": "@jupyter-widgets/controls",
      "_model_module_version": "1.5.0",
      "_model_name": "FloatProgressModel",
      "_view_count": null,
      "_view_module": "@jupyter-widgets/controls",
      "_view_module_version": "1.5.0",
      "_view_name": "ProgressView",
      "bar_style": "success",
      "description": "Downloading: 100%",
      "description_tooltip": null,
      "layout": "IPY_MODEL_a36c593ebb9a4db7a0d0019f9c288308",
      "max": 625,
      "min": 0,
      "orientation": "horizontal",
      "style": "IPY_MODEL_7195097f6f194cbb84ed73f3da391dd9",
      "value": 625
     }
    },
    "e445d8e8dd8a4973ab094f49b3b21376": {
     "model_module": "@jupyter-widgets/controls",
     "model_name": "ProgressStyleModel",
     "state": {
      "_model_module": "@jupyter-widgets/controls",
      "_model_module_version": "1.5.0",
      "_model_name": "ProgressStyleModel",
      "_view_count": null,
      "_view_module": "@jupyter-widgets/base",
      "_view_module_version": "1.2.0",
      "_view_name": "StyleView",
      "bar_color": null,
      "description_width": "initial"
     }
    },
    "ed3a8364ebb44b94a4d5e4176cbdf327": {
     "model_module": "@jupyter-widgets/controls",
     "model_name": "HTMLModel",
     "state": {
      "_dom_classes": [],
      "_model_module": "@jupyter-widgets/controls",
      "_model_module_version": "1.5.0",
      "_model_name": "HTMLModel",
      "_view_count": null,
      "_view_module": "@jupyter-widgets/controls",
      "_view_module_version": "1.5.0",
      "_view_name": "HTMLView",
      "description": "",
      "description_tooltip": null,
      "layout": "IPY_MODEL_77b767a4626f4b69a201d6b7971c0e60",
      "placeholder": "​",
      "style": "IPY_MODEL_cb07ffce421544458b3bd62c913e14ca",
      "value": " 1.08G/1.08G [00:22&lt;00:00, 49.1MB/s]"
     }
    },
    "f3b328371bae48c9825bdf97d1d6f407": {
     "model_module": "@jupyter-widgets/controls",
     "model_name": "FloatProgressModel",
     "state": {
      "_dom_classes": [],
      "_model_module": "@jupyter-widgets/controls",
      "_model_module_version": "1.5.0",
      "_model_name": "FloatProgressModel",
      "_view_count": null,
      "_view_module": "@jupyter-widgets/controls",
      "_view_module_version": "1.5.0",
      "_view_name": "ProgressView",
      "bar_style": "success",
      "description": "Downloading: 100%",
      "description_tooltip": null,
      "layout": "IPY_MODEL_7ee5d4ed7e814adfb8bb72b13b341c1d",
      "max": 995526,
      "min": 0,
      "orientation": "horizontal",
      "style": "IPY_MODEL_50ae3e4ed9c24483b470819db1338c54",
      "value": 995526
     }
    },
    "f889f28da3ba40eb9a662ae67e0b55dd": {
     "model_module": "@jupyter-widgets/controls",
     "model_name": "HBoxModel",
     "state": {
      "_dom_classes": [],
      "_model_module": "@jupyter-widgets/controls",
      "_model_module_version": "1.5.0",
      "_model_name": "HBoxModel",
      "_view_count": null,
      "_view_module": "@jupyter-widgets/controls",
      "_view_module_version": "1.5.0",
      "_view_name": "HBoxView",
      "box_style": "",
      "children": [
       "IPY_MODEL_f3b328371bae48c9825bdf97d1d6f407",
       "IPY_MODEL_30cde1b128d44eaab0cf9845c09dff46"
      ],
      "layout": "IPY_MODEL_811b628915d94c9780301fde32f4a1bd"
     }
    },
    "fac221cfbd054b5581b29475beade412": {
     "model_module": "@jupyter-widgets/controls",
     "model_name": "HBoxModel",
     "state": {
      "_dom_classes": [],
      "_model_module": "@jupyter-widgets/controls",
      "_model_module_version": "1.5.0",
      "_model_name": "HBoxModel",
      "_view_count": null,
      "_view_module": "@jupyter-widgets/controls",
      "_view_module_version": "1.5.0",
      "_view_name": "HBoxView",
      "box_style": "",
      "children": [
       "IPY_MODEL_7c6c1f06eb554c3a8a8c3cd5269008f1",
       "IPY_MODEL_ed3a8364ebb44b94a4d5e4176cbdf327"
      ],
      "layout": "IPY_MODEL_b55b6acf693c43d6adc6f6723ae46939"
     }
    }
   }
  }
 },
 "nbformat": 4,
 "nbformat_minor": 1
}
